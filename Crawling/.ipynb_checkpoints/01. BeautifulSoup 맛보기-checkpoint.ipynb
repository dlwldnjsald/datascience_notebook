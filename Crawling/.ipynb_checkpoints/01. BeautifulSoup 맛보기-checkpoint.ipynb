{
 "cells": [
  {
   "cell_type": "code",
   "execution_count": 11,
   "id": "861a382c",
   "metadata": {},
   "outputs": [
    {
     "ename": "SyntaxError",
     "evalue": "invalid syntax (1886339280.py, line 6)",
     "output_type": "error",
     "traceback": [
      "\u001b[1;36m  Cell \u001b[1;32mIn[11], line 6\u001b[1;36m\u001b[0m\n\u001b[1;33m    conda list beautifulsoup4\u001b[0m\n\u001b[1;37m          ^\u001b[0m\n\u001b[1;31mSyntaxError\u001b[0m\u001b[1;31m:\u001b[0m invalid syntax\n"
     ]
    }
   ],
   "source": [
    "# ../datasample.html\n",
    "# 받아와서 분석 \n",
    "# pip install bs4  # -> conda쓰고있으니 beautifulsoup4 아마 있을것\n",
    "\n",
    "# 설치 여부를 확인하려면, 터미널에서 다음 명령어를 실행\n",
    "# conda list beautifulsoup4\n",
    "\n",
    "# 만약 설치되어 있지 않다면, conda를 사용하여 설치\n",
    "# beautifulsoup4는 bs4 모듈을 포함하고 있으며, bs4는 이 모듈을 통해 사용할 수 있습니다.\n",
    "# conda install beautifulsoup4\n",
    "\n",
    "with open(\"../data/sample.html\",\"rt\") as f:\n",
    "    html_str = f.read()\n",
    "\n",
    "print(html_str)"
   ]
  },
  {
   "cell_type": "code",
   "execution_count": 2,
   "id": "2ee63463",
   "metadata": {},
   "outputs": [
    {
     "data": {
      "text/plain": [
       "bs4.BeautifulSoup"
      ]
     },
     "execution_count": 2,
     "metadata": {},
     "output_type": "execute_result"
    }
   ],
   "source": [
    "# html text -> dom 객체로 변환\n",
    "# soup으로 만들기\n",
    "from bs4 import BeautifulSoup\n",
    "soup = BeautifulSoup(html_str) #DOM으로 변환\n",
    "type(soup)"
   ]
  },
  {
   "cell_type": "code",
   "execution_count": 3,
   "id": "5e30786d",
   "metadata": {},
   "outputs": [
    {
     "name": "stdout",
     "output_type": "stream",
     "text": [
      "<!DOCTYPE html>\n",
      "<html lang=\"en\">\n",
      " <head>\n",
      "  <meta charset=\"utf-8\"/>\n",
      "  <meta content=\"width=device-width, initial-scale=1.0\" name=\"viewport\"/>\n",
      "  <title>\n",
      "   Sample HTML Page\n",
      "  </title>\n",
      " </head>\n",
      " <body>\n",
      "  <div id=\"header\">\n",
      "   <h1>\n",
      "    Sample Homepage\n",
      "   </h1>\n",
      "   <ul class=\"nav\">\n",
      "    <li>\n",
      "     home\n",
      "    </li>\n",
      "    <li>\n",
      "     About\n",
      "    </li>\n",
      "    <li>\n",
      "     Contact\n",
      "    </li>\n",
      "   </ul>\n",
      "  </div>\n",
      "  <div id=\"content\">\n",
      "   <h1>\n",
      "    Content Title\n",
      "   </h1>\n",
      "   <p>\n",
      "    Lorem ipsum dolor sit amet, consectetur adipiscing elit. Phasellus interdum.\n",
      "   </p>\n",
      "   <ul class=\"list\">\n",
      "    <li>\n",
      "     Comment 1\n",
      "    </li>\n",
      "    <li>\n",
      "     Comment 2\n",
      "    </li>\n",
      "    <li>\n",
      "     Comment 3\n",
      "    </li>\n",
      "    <li>\n",
      "     Comment 4\n",
      "    </li>\n",
      "   </ul>\n",
      "  </div>\n",
      "  <div id=\"footer\">\n",
      "   © Bit Academy\n",
      "  </div>\n",
      " </body>\n",
      "</html>\n"
     ]
    }
   ],
   "source": [
    "print(soup.prettify())"
   ]
  },
  {
   "cell_type": "code",
   "execution_count": 4,
   "id": "d249c4fc",
   "metadata": {},
   "outputs": [
    {
     "name": "stdout",
     "output_type": "stream",
     "text": [
      "문서의 title tag: <title>Sample HTML Page</title> <class 'bs4.element.Tag'>\n"
     ]
    }
   ],
   "source": [
    "# title 태그를 뽑아서 내용을 확인\n",
    "title_tag = soup.title\n",
    "print(\"문서의 title tag:\", title_tag, type(title_tag))"
   ]
  },
  {
   "cell_type": "code",
   "execution_count": 5,
   "id": "e2026323",
   "metadata": {},
   "outputs": [
    {
     "name": "stdout",
     "output_type": "stream",
     "text": [
      "태그의 이름: title\n",
      "태그의 콘텐츠: Sample HTML Page\n"
     ]
    }
   ],
   "source": [
    "# 태그 내 컨텐츠 확인하려면 text 속성\n",
    "print(\"태그의 이름:\", title_tag.name)\n",
    "print(\"태그의 콘텐츠:\", title_tag.text)"
   ]
  },
  {
   "cell_type": "code",
   "execution_count": 6,
   "id": "d713f5f7",
   "metadata": {},
   "outputs": [
    {
     "name": "stdout",
     "output_type": "stream",
     "text": [
      "<class 'list_iterator'>\n",
      "head <class 'bs4.element.Tag'>\n",
      "body <class 'bs4.element.Tag'>\n"
     ]
    }
   ],
   "source": [
    "# 문서 탐색 (Traversing)\n",
    "# 최상위 노드(html 확인)\n",
    "html_tag =soup.html\n",
    "# print(html_tag.prettify())\n",
    "# 현재 태그의 자식들 : children\n",
    "children = html_tag.children\n",
    "print(type(children)) # list_iterator : 순서, 인덱스 잡고, 루프 돌릴수있음\n",
    "\n",
    "from bs4.element import Tag\n",
    "\n",
    "for child in children:\n",
    "    # 탐색에 있어 중요한것은 테그 tag\n",
    "    # NavigableStrin -> DOM 트리 구조를 구축하기 위한 특수한 구분 기호\n",
    "    if isinstance(child, Tag): # child가 tag 일때만 조건설정\n",
    "        print(child.name, type(child))\n",
    "    "
   ]
  },
  {
   "cell_type": "code",
   "execution_count": 7,
   "id": "6460f666",
   "metadata": {},
   "outputs": [
    {
     "name": "stdout",
     "output_type": "stream",
     "text": [
      "True\n"
     ]
    }
   ],
   "source": [
    "# 부모 노드를 확인: .parent\n",
    "print(soup.body.parent == soup.html) # body의 부모는 html"
   ]
  },
  {
   "cell_type": "code",
   "execution_count": 8,
   "id": "9e28a26a",
   "metadata": {},
   "outputs": [
    {
     "name": "stdout",
     "output_type": "stream",
     "text": [
      "[<div id=\"header\">\n",
      "<h1>Sample Homepage</h1>\n",
      "<ul class=\"nav\">\n",
      "<li>home</li>\n",
      "<li>About</li>\n",
      "<li>Contact</li>\n",
      "</ul>\n",
      "</div>, <div id=\"content\">\n",
      "<h1>Content Title</h1>\n",
      "<p>Lorem ipsum dolor sit amet, consectetur adipiscing elit. Phasellus interdum.</p>\n",
      "<ul class=\"list\">\n",
      "<li>Comment 1</li>\n",
      "<li>Comment 2</li>\n",
      "<li>Comment 3</li>\n",
      "<li>Comment 4</li>\n",
      "</ul>\n",
      "</div>, <div id=\"footer\">\n",
      "        © Bit Academy\n",
      "    </div>]\n"
     ]
    }
   ],
   "source": [
    "# find 메서드를 이용한 객체 탐색 \n",
    "# 태그를 이용한 검색\n",
    "\n",
    "#divs = soup.html.find(\"div\") # 한개만 찾음\n",
    "divs = soup.html.findAll(\"div\") # 매칭되는 모든 요소를 검색\n",
    "print(divs)"
   ]
  },
  {
   "cell_type": "code",
   "execution_count": 9,
   "id": "d519c7d3",
   "metadata": {},
   "outputs": [
    {
     "name": "stdout",
     "output_type": "stream",
     "text": [
      "list item: Comment 1\n",
      "list item: Comment 2\n",
      "list item: Comment 3\n",
      "list item: Comment 4\n"
     ]
    }
   ],
   "source": [
    "# 태그의 속성을 이용해 검색할때\n",
    "# class 속성이 list인 ul을 검색할때 (ex)\n",
    "list_ul = soup.body.find(\"ul\", {\"class\":\"list\"})\n",
    "# print(list_ul)\n",
    "\n",
    "# 검색된 ul의 자식노드 li를 순회하면서 출력해보기\n",
    "for li in list_ul.children:\n",
    "    if isinstance(li, Tag):\n",
    "        print(\"list item:\", li.text)\n",
    "    "
   ]
  },
  {
   "cell_type": "code",
   "execution_count": 10,
   "id": "6350e107",
   "metadata": {},
   "outputs": [
    {
     "name": "stdout",
     "output_type": "stream",
     "text": [
      "[<li>Comment 1</li>, <li>Comment 2</li>, <li>Comment 3</li>, <li>Comment 4</li>]\n"
     ]
    }
   ],
   "source": [
    "# CSS Selector를 이용해서 검색할때 : select\n",
    "# id 셀렉터 : #id\n",
    "# class 셀렉터 : .class\n",
    "# 자식 셀렉터: >\n",
    "# 자손 셀렉터 : 공백\n",
    "list_ul = soup.body.select(\"ul.list > li\")\n",
    "print(list_ul)"
   ]
  },
  {
   "cell_type": "code",
   "execution_count": null,
   "id": "ded9c890",
   "metadata": {},
   "outputs": [],
   "source": []
  },
  {
   "cell_type": "code",
   "execution_count": null,
   "id": "ca555b36",
   "metadata": {},
   "outputs": [],
   "source": []
  },
  {
   "cell_type": "code",
   "execution_count": null,
   "id": "92e212df",
   "metadata": {},
   "outputs": [],
   "source": []
  },
  {
   "cell_type": "code",
   "execution_count": null,
   "id": "8a3d1d87",
   "metadata": {},
   "outputs": [],
   "source": []
  }
 ],
 "metadata": {
  "kernelspec": {
   "display_name": "Python 3 (ipykernel)",
   "language": "python",
   "name": "python3"
  },
  "language_info": {
   "codemirror_mode": {
    "name": "ipython",
    "version": 3
   },
   "file_extension": ".py",
   "mimetype": "text/x-python",
   "name": "python",
   "nbconvert_exporter": "python",
   "pygments_lexer": "ipython3",
   "version": "3.10.9"
  }
 },
 "nbformat": 4,
 "nbformat_minor": 5
}
