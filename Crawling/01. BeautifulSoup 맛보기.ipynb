{
 "cells": [
  {
   "cell_type": "markdown",
   "id": "938d3351",
   "metadata": {},
   "source": [
    "1. **BeautifulSoup 설치 확인**\n",
    "\n",
    "`bs4`는 Python의 BeautifulSoup4 라이브러리 패키지입니다. \n",
    "\n",
    "이 라이브러리는 웹 페이지를 파싱하고 데이터를 추출하는 데 유용합니다. \n",
    "\n",
    "`bs4`를 설치하려면, 다음 명령어를 사용할 수 있습니다:\n"
   ]
  },
  {
   "cell_type": "markdown",
   "id": "aaf42583",
   "metadata": {},
   "source": [
    "- pip install bs4  # -> conda쓰고있으니 beautifulsoup4 아마 있을것\n",
    "\n",
    "설치 여부를 확인하려면, 터미널에서 다음 명령어를 실행\n",
    "- conda list beautifulsoup4\n",
    "\n",
    "만약 설치되어 있지 않다면, conda를 사용하여 설치\n",
    "<br>beautifulsoup4는 bs4 모듈을 포함하고 있으며, bs4는 이 모듈을 통해 사용할 수 있습니다.\n",
    "- conda install beautifulsoup4"
   ]
  },
  {
   "cell_type": "markdown",
   "id": "a2529e61",
   "metadata": {},
   "source": [
    "### 2. **HTML 파일 분석**\n",
    "\n",
    "HTML 파일을 분석하기 위해 BeautifulSoup을 사용하여 HTML 문자열을 파싱하고, \n",
    "\n",
    "필요한 정보를 추출하는 방법을 보여드리겠습니다."
   ]
  },
  {
   "cell_type": "code",
   "execution_count": 15,
   "id": "e5d834cd",
   "metadata": {},
   "outputs": [
    {
     "name": "stdout",
     "output_type": "stream",
     "text": [
      "<!DOCTYPE html>\n",
      "<html lang=\"en\">\n",
      "<head>\n",
      "    <meta charset=\"UTF-8\">\n",
      "    <meta name=\"viewport\" content=\"width=device-width, initial-scale=1.0\">\n",
      "    <title>Sample HTML Page</title>\n",
      "</head>\n",
      "<body>\n",
      "    <div id=\"header\">\n",
      "        <h1>Sample Homepage</h1>\n",
      "        <ul class=\"nav\">\n",
      "            <li>home</li>\n",
      "            <li>About</li>\n",
      "            <li>Contact</li>\n",
      "        </ul>\n",
      "    </div>\n",
      "    <div id=\"content\">\n",
      "        <h1>Content Title</h1>\n",
      "        <p>Lorem ipsum dolor sit amet, consectetur adipiscing elit. Phasellus interdum.</p>\n",
      "        <ul class=\"list\">\n",
      "            <li>Comment 1</li>\n",
      "            <li>Comment 2</li>\n",
      "            <li>Comment 3</li>\n",
      "            <li>Comment 4</li>\n",
      "        </ul>\n",
      "    </div>\n",
      "    <div id=\"footer\">\n",
      "        &copy; Bit Academy\n",
      "    </div>\n",
      "</body>\n",
      "</html>\n"
     ]
    }
   ],
   "source": [
    "# ../data/sample.html 파일을 읽기 모드(rt, read text mode)로 엽니다\n",
    "# with 문을 사용하여 파일을 여는 것은 파일 작업이 끝나면 자동으로 파일을 닫아주기 때문에 안전\n",
    "# f: 파일 객체를 나타내며, 이 객체를 통해 파일 내용을 읽을 수 있습니다.\n",
    "with open(\"../data/sample.html\",\"rt\") as f:\n",
    "    html_str = f.read() # f객체를 통해 파일의 모든내용 읽고 이를 변수에 문자열로 할당\n",
    "\n",
    "print(html_str)"
   ]
  },
  {
   "cell_type": "code",
   "execution_count": 2,
   "id": "974752e8",
   "metadata": {},
   "outputs": [
    {
     "data": {
      "text/plain": [
       "bs4.BeautifulSoup"
      ]
     },
     "execution_count": 2,
     "metadata": {},
     "output_type": "execute_result"
    }
   ],
   "source": [
    "# html text -> dom 객체로 변환위한 BeautifulSoup 사용\n",
    "# soup으로 만들기\n",
    "\n",
    "# BeautifulSoup 클래스를 'bs4' 라이브러리에서 임포트\n",
    "# BeautifulSoup 은 HTML 이나 XML 파일을 파싱하여 파이썬 객체로 변환하는 기능 제공\n",
    "from bs4 import BeautifulSoup\n",
    "\n",
    "# DOM 객체: 파싱된 HTML 문서의 계층구조를 표현하며 다양한 메서드를 통해 HTML 요소를 탐색, 조작가능\n",
    "soup = BeautifulSoup(html_str) #DOM객체로 변환후 저장\n",
    "\n",
    "type(soup) # 타입확인"
   ]
  },
  {
   "cell_type": "code",
   "execution_count": 3,
   "id": "77d21f01",
   "metadata": {},
   "outputs": [
    {
     "name": "stdout",
     "output_type": "stream",
     "text": [
      "<!DOCTYPE html>\n",
      "<html lang=\"en\">\n",
      " <head>\n",
      "  <meta charset=\"utf-8\"/>\n",
      "  <meta content=\"width=device-width, initial-scale=1.0\" name=\"viewport\"/>\n",
      "  <title>\n",
      "   Sample HTML Page\n",
      "  </title>\n",
      " </head>\n",
      " <body>\n",
      "  <div id=\"header\">\n",
      "   <h1>\n",
      "    Sample Homepage\n",
      "   </h1>\n",
      "   <ul class=\"nav\">\n",
      "    <li>\n",
      "     home\n",
      "    </li>\n",
      "    <li>\n",
      "     About\n",
      "    </li>\n",
      "    <li>\n",
      "     Contact\n",
      "    </li>\n",
      "   </ul>\n",
      "  </div>\n",
      "  <div id=\"content\">\n",
      "   <h1>\n",
      "    Content Title\n",
      "   </h1>\n",
      "   <p>\n",
      "    Lorem ipsum dolor sit amet, consectetur adipiscing elit. Phasellus interdum.\n",
      "   </p>\n",
      "   <ul class=\"list\">\n",
      "    <li>\n",
      "     Comment 1\n",
      "    </li>\n",
      "    <li>\n",
      "     Comment 2\n",
      "    </li>\n",
      "    <li>\n",
      "     Comment 3\n",
      "    </li>\n",
      "    <li>\n",
      "     Comment 4\n",
      "    </li>\n",
      "   </ul>\n",
      "  </div>\n",
      "  <div id=\"footer\">\n",
      "   © Bit Academy\n",
      "  </div>\n",
      " </body>\n",
      "</html>\n"
     ]
    }
   ],
   "source": [
    "# soup.prettify() : BeautifulSoup 객체의 메서드로 가독성있게 HTML문서를 들여쓰기 형태로 반환\n",
    "print(soup.prettify())"
   ]
  },
  {
   "cell_type": "code",
   "execution_count": 4,
   "id": "f70313aa",
   "metadata": {},
   "outputs": [
    {
     "name": "stdout",
     "output_type": "stream",
     "text": [
      "문서의 title tag: <title>Sample HTML Page</title> <class 'bs4.element.Tag'>\n"
     ]
    }
   ],
   "source": [
    "# title 태그를 뽑아서 내용을 확인\n",
    "title_tag = soup.title\n",
    "print(\"문서의 title tag:\", title_tag, type(title_tag))"
   ]
  },
  {
   "cell_type": "code",
   "execution_count": 5,
   "id": "ee2bb814",
   "metadata": {},
   "outputs": [
    {
     "name": "stdout",
     "output_type": "stream",
     "text": [
      "태그의 이름: title\n",
      "태그의 콘텐츠: Sample HTML Page\n"
     ]
    }
   ],
   "source": [
    "# 태그 내 컨텐츠 확인하려면 text 속성\n",
    "print(\"태그의 이름:\", title_tag.name)\n",
    "print(\"태그의 콘텐츠:\", title_tag.text)"
   ]
  },
  {
   "cell_type": "code",
   "execution_count": 6,
   "id": "92e991a7",
   "metadata": {},
   "outputs": [
    {
     "name": "stdout",
     "output_type": "stream",
     "text": [
      "<class 'list_iterator'>\n",
      "head <class 'bs4.element.Tag'>\n",
      "body <class 'bs4.element.Tag'>\n"
     ]
    }
   ],
   "source": [
    "# 문서 탐색 (Traversing)\n",
    "# 최상위 노드(html 확인)\n",
    "html_tag =soup.html\n",
    "# print(html_tag.prettify())\n",
    "# 현재 태그의 자식들 : children\n",
    "children = html_tag.children\n",
    "print(type(children)) # list_iterator : 순서, 인덱스 잡고, 루프 돌릴수있음\n",
    "\n",
    "from bs4.element import Tag\n",
    "\n",
    "for child in children:\n",
    "    # 탐색에 있어 중요한것은 테그 tag\n",
    "    # NavigableStrin -> DOM 트리 구조를 구축하기 위한 특수한 구분 기호\n",
    "    if isinstance(child, Tag): # child가 tag 일때만 조건설정\n",
    "        print(child.name, type(child))\n",
    "    "
   ]
  },
  {
   "cell_type": "code",
   "execution_count": 7,
   "id": "9a65ae62",
   "metadata": {},
   "outputs": [
    {
     "name": "stdout",
     "output_type": "stream",
     "text": [
      "True\n"
     ]
    }
   ],
   "source": [
    "# 부모 노드를 확인: .parent\n",
    "print(soup.body.parent == soup.html) # body의 부모는 html"
   ]
  },
  {
   "cell_type": "code",
   "execution_count": 8,
   "id": "afb452c3",
   "metadata": {},
   "outputs": [
    {
     "name": "stdout",
     "output_type": "stream",
     "text": [
      "[<div id=\"header\">\n",
      "<h1>Sample Homepage</h1>\n",
      "<ul class=\"nav\">\n",
      "<li>home</li>\n",
      "<li>About</li>\n",
      "<li>Contact</li>\n",
      "</ul>\n",
      "</div>, <div id=\"content\">\n",
      "<h1>Content Title</h1>\n",
      "<p>Lorem ipsum dolor sit amet, consectetur adipiscing elit. Phasellus interdum.</p>\n",
      "<ul class=\"list\">\n",
      "<li>Comment 1</li>\n",
      "<li>Comment 2</li>\n",
      "<li>Comment 3</li>\n",
      "<li>Comment 4</li>\n",
      "</ul>\n",
      "</div>, <div id=\"footer\">\n",
      "        © Bit Academy\n",
      "    </div>]\n"
     ]
    }
   ],
   "source": [
    "# find 메서드를 이용한 객체 탐색 \n",
    "# 태그를 이용한 검색\n",
    "\n",
    "#divs = soup.html.find(\"div\") # 한개만 찾음\n",
    "divs = soup.html.findAll(\"div\") # 매칭되는 모든 요소를 검색\n",
    "print(divs)"
   ]
  },
  {
   "cell_type": "code",
   "execution_count": 9,
   "id": "4c71ba23",
   "metadata": {},
   "outputs": [
    {
     "name": "stdout",
     "output_type": "stream",
     "text": [
      "list item: Comment 1\n",
      "list item: Comment 2\n",
      "list item: Comment 3\n",
      "list item: Comment 4\n"
     ]
    }
   ],
   "source": [
    "# 태그의 속성을 이용해 검색할때\n",
    "# class 속성이 list인 ul을 검색할때 (ex)\n",
    "list_ul = soup.body.find(\"ul\", {\"class\":\"list\"})\n",
    "# print(list_ul)\n",
    "\n",
    "# 검색된 ul의 자식노드 li를 순회하면서 출력해보기\n",
    "for li in list_ul.children:\n",
    "    if isinstance(li, Tag):\n",
    "        print(\"list item:\", li.text)\n",
    "    "
   ]
  },
  {
   "cell_type": "code",
   "execution_count": 10,
   "id": "e2522039",
   "metadata": {},
   "outputs": [
    {
     "name": "stdout",
     "output_type": "stream",
     "text": [
      "[<li>Comment 1</li>, <li>Comment 2</li>, <li>Comment 3</li>, <li>Comment 4</li>]\n"
     ]
    }
   ],
   "source": [
    "# CSS Selector를 이용해서 검색할때 : select\n",
    "# id 셀렉터 : #id\n",
    "# class 셀렉터 : .class\n",
    "# 자식 셀렉터: >\n",
    "# 자손 셀렉터 : 공백\n",
    "list_ul = soup.body.select(\"ul.list > li\")\n",
    "print(list_ul)"
   ]
  },
  {
   "cell_type": "code",
   "execution_count": null,
   "id": "8708d436",
   "metadata": {},
   "outputs": [],
   "source": []
  },
  {
   "cell_type": "code",
   "execution_count": null,
   "id": "c2c00ed5",
   "metadata": {},
   "outputs": [],
   "source": []
  },
  {
   "cell_type": "code",
   "execution_count": null,
   "id": "284181c1",
   "metadata": {},
   "outputs": [],
   "source": []
  },
  {
   "cell_type": "code",
   "execution_count": null,
   "id": "145723c1",
   "metadata": {},
   "outputs": [],
   "source": []
  }
 ],
 "metadata": {
  "kernelspec": {
   "display_name": "Python 3 (ipykernel)",
   "language": "python",
   "name": "python3"
  },
  "language_info": {
   "codemirror_mode": {
    "name": "ipython",
    "version": 3
   },
   "file_extension": ".py",
   "mimetype": "text/x-python",
   "name": "python",
   "nbconvert_exporter": "python",
   "pygments_lexer": "ipython3",
   "version": "3.10.9"
  }
 },
 "nbformat": 4,
 "nbformat_minor": 5
}
