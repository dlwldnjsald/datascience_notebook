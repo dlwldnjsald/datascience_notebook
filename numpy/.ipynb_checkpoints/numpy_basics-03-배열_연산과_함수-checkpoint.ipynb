{
 "cells": [
  {
   "cell_type": "markdown",
   "id": "fd9530faa2de00ad",
   "metadata": {},
   "source": [
    "# Numpy\n",
    "-----\n",
    "## 03. 배열 연산과 함수\n",
    "### 스칼라, 벡터, 매트릭스, 텐서"
   ]
  },
  {
   "cell_type": "markdown",
   "id": "7e2b936eacde9955",
   "metadata": {},
   "source": [
    "- 스칼라\n",
    "    - 수학과 물리학에서 사용되는 개념으로 크기만을 가지고 방향이 없는 양\n",
    "    - 다른 말로 단 하나의 값을 갖는 변수 또는 양\n",
    "    - 1차원으로만 표현\n",
    "    - 주로 실수, 정수, 복소수 등과 같은 숫자 형태로 표현되며 수학적 연산에 사용될 수 있음\n",
    "- 스칼라는 벡터(크기와 방향을 가지는 양)과 대비되는 개념으로 이해\n",
    "- 차원별 용어\n",
    "    - 0D: 스칼라\n",
    "    - 1D: 벡터\n",
    "    - 2D: 매트릭스\n",
    "    - 3D: 큐브\n",
    "    - 4D: 테서렉트\n",
    "- Tensor : 3차원 이상의 데이터는 텐서라고 통칭하여 3차원 텐서, 4차원 텐서, n차원 텐서라 지칭하기도 함\n",
    "        "
   ]
  },
  {
   "cell_type": "code",
   "execution_count": 1,
   "id": "20fb5a9a53308c28",
   "metadata": {
    "ExecuteTime": {
     "end_time": "2024-01-29T07:39:56.998452200Z",
     "start_time": "2024-01-29T07:39:56.810929900Z"
    }
   },
   "outputs": [],
   "source": [
    "import numpy as np\n",
    "\n",
    "# 차원이 없는 배열은 스칼라\n",
    "\n",
    "# scalar의 속성들을 살펴봅시다\n",
    "\n",
    "\n",
    "\n",
    "# 그렇다면 이것은 어떨까?\n",
    "\n",
    "# onedim의 속성들을 살펴봅시다\n",
    "\n"
   ]
  },
  {
   "cell_type": "markdown",
   "id": "72b74e1973cc6472",
   "metadata": {},
   "source": [
    "### 기본 수학 연산: 덧셈, 뺄셈, 곱셈, 나눗셈\n",
    "\n",
    "- 배열과 스칼라의 연산\n",
    "    - 스칼라가 배열의 각 요소로 브로드캐스팅되어 연산된다"
   ]
  },
  {
   "cell_type": "code",
   "execution_count": 2,
   "id": "26f64b6199adbac1",
   "metadata": {
    "ExecuteTime": {
     "end_time": "2024-01-29T07:39:57.011104800Z",
     "start_time": "2024-01-29T07:39:57.000452200Z"
    }
   },
   "outputs": [],
   "source": [
    "import numpy as np\n",
    "\n",
    "# 스칼라 데이터\n",
    "scalar = 10\n",
    "# 배열 데이터\n",
    "arr = np.array([1, 2, 3, 4, 5])\n",
    "\n"
   ]
  },
  {
   "cell_type": "markdown",
   "id": "b099ee07ed386c7d",
   "metadata": {},
   "source": [
    "- 배열과 배열의 연산"
   ]
  },
  {
   "cell_type": "code",
   "execution_count": 3,
   "id": "f21fa1aac692db69",
   "metadata": {
    "ExecuteTime": {
     "end_time": "2024-01-29T07:39:57.069218500Z",
     "start_time": "2024-01-29T07:39:57.017103900Z"
    }
   },
   "outputs": [],
   "source": [
    "import numpy as np\n",
    "\n",
    "# 1차원과 1차원의 연산\n",
    "\n",
    "\n",
    "\n",
    "\n",
    "# 2차원과 1차원 연산\n",
    "\n",
    "\n",
    "\n",
    "\n"
   ]
  },
  {
   "cell_type": "markdown",
   "id": "819b75045a1991af",
   "metadata": {},
   "source": [
    "### 내적\n",
    "- 내적\n",
    "    - 점곱(Dot Product)라고도 불리며 선형 대수학에서 두 벡터간의 연산을 말함\n",
    "    - 두 벡터의 각 성분을 곱한 후 그 결과들을 더하는 연산\n",
    "        -  벡터의 길이와 방향에 대한 정보를 담고 있음\n",
    "    - 넘파이에서는 dot 함수로 수행\n",
    "\n",
    "\n",
    "※ 단위 행렬이 가지는 의미 : 선형대수학에서는 행렬의 곱셈을 정의할 때, 단위 행렬을 곱해도 결과 행렬이 변하지 않는다는 의미로 사용"
   ]
  },
  {
   "cell_type": "code",
   "execution_count": 4,
   "id": "47386f789e1055d4",
   "metadata": {
    "ExecuteTime": {
     "end_time": "2024-01-29T07:39:57.071203600Z",
     "start_time": "2024-01-29T07:39:57.033454800Z"
    }
   },
   "outputs": [],
   "source": [
    "import numpy as np\n",
    "\n",
    "# 벡터와 벡터의 내적\n",
    "\n",
    "\n",
    "\n",
    "\n",
    "# 매트릭스와 벡터의 내적\n",
    "\n",
    "\n",
    "\n",
    "\n",
    "# 매트릭스와 매트릭스의 내적\n",
    "\n",
    "\n",
    "\n",
    "\n",
    "# 단위행렬의 의미: 곱해도 결과가 변하지 않는 행렬\n",
    "\n",
    "\n",
    "\n",
    "\n"
   ]
  },
  {
   "cell_type": "markdown",
   "id": "696c232cb38ddc57",
   "metadata": {},
   "source": [
    "### 넘파이 함수 활용\n",
    "- sum : 합계\n",
    "- mean : 산술통계\n",
    "- median : 중앙값\n",
    "- min : 최솟값\n",
    "- max : 최댓값\n",
    "- var : 분산\n",
    "- std : 표준편자"
   ]
  },
  {
   "cell_type": "code",
   "execution_count": 5,
   "id": "639f206eae6013a9",
   "metadata": {
    "ExecuteTime": {
     "end_time": "2024-01-29T07:39:57.158103300Z",
     "start_time": "2024-01-29T07:39:57.059596100Z"
    }
   },
   "outputs": [],
   "source": [
    "import numpy as np\n",
    "\n",
    "# 파이썬 기본 자료형의 통계치\n",
    "lst = [10, 20, 30, 40, 50]\n",
    "# 넘파이 배열의 통계 함수\n",
    "arr = np.array([\n",
    "    [0, 1, 2],\n",
    "    [10, 11, 12],\n",
    "    [20, 21, 22],\n",
    "    [30, 31, 32]\n",
    "])\n",
    "\n",
    "\n",
    "\n",
    "\n",
    "\n"
   ]
  },
  {
   "cell_type": "markdown",
   "id": "948ae0d0b94f73a8",
   "metadata": {},
   "source": [
    "#### 축(AXIS)의 이해\n",
    "- 행별 통계, 열별 통계 등을 구하려면 axis 매개변수를 이해해야 함"
   ]
  },
  {
   "cell_type": "code",
   "execution_count": 6,
   "id": "e8cd71c1efdb98ea",
   "metadata": {
    "ExecuteTime": {
     "end_time": "2024-01-29T07:39:57.178436300Z",
     "start_time": "2024-01-29T07:39:57.072203500Z"
    }
   },
   "outputs": [],
   "source": [
    "import numpy as np\n",
    "\n",
    "arr = np.array([\n",
    "    [0, 1, 2],\n",
    "    [10, 11, 12],\n",
    "    [20, 21, 22],\n",
    "    [30, 31, 32]\n",
    "])\n",
    "\n",
    "# 열별 합계\n",
    "# 행별 합계\n",
    "\n",
    "arr2 = np.array([\n",
    "    [\n",
    "        [0, 1, 2],\n",
    "        [10, 11, 12],\n",
    "        [20, 21, 22],\n",
    "        [30, 31, 32]\n",
    "    ],\n",
    "    [\n",
    "        [100, 101, 102],\n",
    "         [110, 111, 112],\n",
    "         [120, 121, 122],\n",
    "         [130, 131, 132]\n",
    "    ]\n",
    "])\n",
    "\n",
    "\n",
    "\n"
   ]
  },
  {
   "cell_type": "markdown",
   "id": "df93d532ab3e3eec",
   "metadata": {},
   "source": [
    "### 배열의 변형\n",
    "- reshape : 배열의 모양(Shape)을 변경\n",
    "- resize : 배열의 모양(Shape)을 변경\n",
    "    - reshape와 다르게 원본 배열을 변경\n",
    "- flatten : 다차원 배열을 1차원으로 펼침\n",
    "- ravel : 다차원 배열을 1차원으로 펼침\n",
    "    - flatten와 유사하나 원본 배열과 공유 메모리를 사용하기 때문에 효율적\n",
    "- transpose : 전치 행렬\n",
    "    - 행과 열을 바꾸는 작업\n",
    "    - T 속성으로도 전치 행렬을 구할 수 있음"
   ]
  },
  {
   "cell_type": "code",
   "execution_count": 7,
   "id": "9f242cfc8e1bbbb8",
   "metadata": {
    "ExecuteTime": {
     "end_time": "2024-01-29T07:39:57.180446300Z",
     "start_time": "2024-01-29T07:39:57.084557600Z"
    }
   },
   "outputs": [],
   "source": [
    "import numpy as np\n",
    "\n",
    "arr = np.array([1, 2, 3, 4, 5, 6])\n",
    "\n",
    "\n",
    "\n",
    "\n",
    "\n",
    "\n",
    "# reshape\n",
    "\n",
    "\n",
    "\n",
    "\n",
    "\n",
    "# resize\n",
    "\n",
    "\n",
    "\n",
    "\n",
    "\n",
    "# flatten\n",
    "\n",
    "\n",
    "\n",
    "\n",
    "\n",
    "# ravel\n",
    "\n",
    "\n",
    "\n",
    "\n",
    "\n",
    "# transpose\n",
    "\n",
    "\n",
    "\n",
    "\n"
   ]
  },
  {
   "cell_type": "markdown",
   "id": "96191a833b3351ea",
   "metadata": {},
   "source": [
    "### 배열의 병합과 분할\n",
    "- 배열의 병합\n",
    "    - concatenate : 배열의 병합\n",
    "    - vstack : 배열을 수직 방향으로 쌓아 올림\n",
    "    - hstack : 배열을 수평 방향으로 옆으로 붙임"
   ]
  },
  {
   "cell_type": "code",
   "execution_count": 8,
   "id": "20fefc85f7462eba",
   "metadata": {
    "ExecuteTime": {
     "end_time": "2024-01-29T07:39:57.283217500Z",
     "start_time": "2024-01-29T07:39:57.091959500Z"
    }
   },
   "outputs": [
    {
     "name": "stdout",
     "output_type": "stream",
     "text": [
      "arr1: [1 2 3]\n",
      "arr2: [4 5 6]\n"
     ]
    }
   ],
   "source": [
    "import numpy as np\n",
    "\n",
    "arr1 = np.array([1, 2, 3])\n",
    "arr2 = np.array([4, 5, 6])\n",
    "print(\"arr1:\", arr1)\n",
    "print(\"arr2:\", arr2)\n",
    "\n",
    "# concatenate\n",
    "\n",
    "\n",
    "\n",
    "\n",
    "# vstack\n",
    "\n",
    "\n",
    "\n",
    "\n",
    "# hstack\n",
    "\n",
    "\n",
    "\n",
    "\n"
   ]
  },
  {
   "cell_type": "markdown",
   "id": "b532af3442ff9e52",
   "metadata": {},
   "source": [
    "- 배열의 분할\n",
    "    - split : 배열을 주어진 인덱스 또는 개수를 기준으로 분할\n",
    "    - vsplit : 배열을 수직 방향으로 분할\n",
    "    - hsplit : 배열을 수평 방향으로 분할"
   ]
  },
  {
   "cell_type": "code",
   "execution_count": 9,
   "id": "5bb5f571a155e908",
   "metadata": {
    "ExecuteTime": {
     "end_time": "2024-01-29T07:39:57.285246Z",
     "start_time": "2024-01-29T07:39:57.103833600Z"
    }
   },
   "outputs": [],
   "source": [
    "import numpy as np\n",
    "\n",
    "# split\n",
    "arr = np.array([1, 2, 3, 4, 5, 6])\n",
    "\n",
    "\n",
    "\n",
    "\n",
    "\n",
    "# vsplit\n",
    "arr = np.array([[1, 2], [3, 4], [5, 6]])\n",
    "\n",
    "\n",
    "\n",
    "\n",
    "\n",
    "# hsplit\n",
    "arr = np.array([[1, 2, 3], [4, 5, 6]])\n",
    "\n",
    "\n",
    "\n",
    "\n"
   ]
  },
  {
   "cell_type": "markdown",
   "id": "49690d878a480a26",
   "metadata": {},
   "source": [
    "### 배열의 복제\n",
    "- 얕은 복제 : 원본 배열과 공유 메모리를 사용\n",
    "    - view : 원본 배열과 메모리를 공유하면서 새로운 ndarray 객체를 생성\n",
    "    - slice : 원본 배열의 일부를 가리키는 별칭 생성"
   ]
  },
  {
   "cell_type": "code",
   "execution_count": 10,
   "id": "34d113510a589d8b",
   "metadata": {
    "ExecuteTime": {
     "end_time": "2024-01-29T07:39:57.286226900Z",
     "start_time": "2024-01-29T07:39:57.119295300Z"
    }
   },
   "outputs": [
    {
     "name": "stdout",
     "output_type": "stream",
     "text": [
      "origin_arr: [1 2 3 4 5]\n"
     ]
    }
   ],
   "source": [
    "import numpy as np\n",
    "\n",
    "origin_arr = np.array([1, 2, 3, 4, 5])\n",
    "print(\"origin_arr:\", origin_arr)\n",
    "\n",
    "# 얕은 복사\n",
    "\n",
    "\n",
    "# 배열 내용 출력\n",
    "\n",
    "\n",
    "\n"
   ]
  },
  {
   "cell_type": "markdown",
   "id": "32decddd9b6c8f8a",
   "metadata": {},
   "source": [
    "- 깊은 복제 : 원본 배열과 공유 메모리를 사용하지 않음\n",
    "    - copy : 원본 배열과 공유 메모리를 사용하지 않고 새로운 ndarray 객체를 생성"
   ]
  },
  {
   "cell_type": "code",
   "execution_count": 11,
   "id": "65b6b2371f237fef",
   "metadata": {
    "ExecuteTime": {
     "end_time": "2024-01-29T07:39:57.302442400Z",
     "start_time": "2024-01-29T07:39:57.128414800Z"
    }
   },
   "outputs": [],
   "source": [
    "import numpy as np\n",
    "\n",
    "# 원본 배열 생성\n",
    "original_array = np.array([1, 2, 3, 4, 5])\n",
    "\n",
    "# 깊은 복사\n",
    "\n",
    "\n",
    "\n",
    "\n",
    "# 배열 내용 출력\n",
    "\n",
    "\n",
    "\n",
    "\n",
    "# 복사된 배열의 첫 번째 요소를 변경\n",
    "\n",
    "\n",
    "\n",
    "\n",
    "# 변경 후 배열 내용 출력\n",
    "\n",
    "\n",
    "\n"
   ]
  }
 ],
 "metadata": {
  "kernelspec": {
   "display_name": "Python 3 (ipykernel)",
   "language": "python",
   "name": "python3"
  },
  "language_info": {
   "codemirror_mode": {
    "name": "ipython",
    "version": 3
   },
   "file_extension": ".py",
   "mimetype": "text/x-python",
   "name": "python",
   "nbconvert_exporter": "python",
   "pygments_lexer": "ipython3",
   "version": "3.10.9"
  }
 },
 "nbformat": 4,
 "nbformat_minor": 5
}
