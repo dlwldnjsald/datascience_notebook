{
 "cells": [
  {
   "cell_type": "markdown",
   "source": [
    "# Visualization\n",
    "-----\n",
    "## Matplot 고급 시각화 기법\n",
    "### 이미지 그리기\n",
    "#### 이미지 데이터를 활용한 그래프 그리기"
   ],
   "metadata": {
    "collapsed": false
   },
   "id": "e815f203d0793055"
  },
  {
   "cell_type": "code",
   "source": [
    "import matplotlib.pyplot as plt\n",
    "import numpy as np\n",
    "\n",
    "# 예시 이미지 데이터 (3x3 크기의 흑백 이미지)\n",
    "image_data = np.array([[0.1, 0.4, 0.7],\n",
    "                       [0.3, 0.6, 0.9],\n",
    "                       [0.2, 0.5, 0.8]])\n",
    "\n"
   ],
   "metadata": {
    "collapsed": false
   },
   "id": "2e9db0a99be0a6d9",
   "outputs": [],
   "execution_count": null
  },
  {
   "cell_type": "markdown",
   "source": [
    "##### 컬러맵 설정\n",
    "- https://matplotlib.org/stable/tutorials/colors/colormaps.html"
   ],
   "metadata": {
    "collapsed": false
   },
   "id": "dc09b5a5f4cb88a1"
  },
  {
   "cell_type": "code",
   "source": [
    "import matplotlib.pyplot as plt\n",
    "import numpy as np\n",
    "\n",
    "# 예시 이미지 데이터 (3x3 크기의 흑백 이미지)\n",
    "image_data = np.array([[0.1, 0.4, 0.7],\n",
    "                       [0.3, 0.6, 0.9],\n",
    "                       [0.2, 0.5, 0.8]])\n",
    "\n",
    "# 'jet' 컬러맵 사용\n",
    "# 컬러바 추가\n",
    "\n",
    "\n",
    "\n"
   ],
   "metadata": {
    "collapsed": false
   },
   "id": "20f247fae1a9a8f7",
   "outputs": [],
   "execution_count": null
  },
  {
   "cell_type": "markdown",
   "source": [
    "### 이미지 처리\n",
    "#### 이미지 처리 라이브러리\n",
    "- Pillow\n",
    "- OpenCV\n",
    "- scikit-image\n",
    "- imageio\n",
    "- numpy와 matplotlib (*)"
   ],
   "metadata": {
    "collapsed": false
   },
   "id": "e668325267b4c384"
  },
  {
   "cell_type": "code",
   "source": [
    "import numpy as np\n",
    "import matplotlib.image as img\n",
    "import matplotlib.pyplot as plt"
   ],
   "metadata": {
    "collapsed": false
   },
   "id": "dd0a2236c6cd885c",
   "outputs": [],
   "execution_count": null
  },
  {
   "cell_type": "code",
   "source": [
    "# 이미지 읽어오기\n",
    "\n",
    "\n",
    "\n",
    "\n"
   ],
   "metadata": {
    "collapsed": false
   },
   "id": "7c945494e284a1c5",
   "outputs": [],
   "execution_count": null
  },
  {
   "cell_type": "code",
   "source": [
    "\n",
    "\n",
    "\n",
    "\n",
    "\n"
   ],
   "metadata": {
    "collapsed": false
   },
   "id": "177afbca815ee430",
   "outputs": [],
   "execution_count": null
  },
  {
   "cell_type": "code",
   "source": [
    "\n",
    "\n",
    "\n",
    "\n",
    "\n"
   ],
   "metadata": {
    "collapsed": false
   },
   "id": "bc41b21c812622a",
   "outputs": [],
   "execution_count": null
  },
  {
   "cell_type": "code",
   "source": [
    "# 이미지 출력 (imshow)\n",
    "\n",
    "\n",
    "\n",
    "\n",
    "\n"
   ],
   "metadata": {
    "collapsed": false
   },
   "id": "54af16dbbf898999",
   "outputs": [],
   "execution_count": null
  },
  {
   "cell_type": "code",
   "source": [
    "# 이미지 상하 반전\n",
    "\n",
    "\n",
    "\n",
    "\n",
    "\n"
   ],
   "metadata": {
    "collapsed": false
   },
   "id": "7d28944676ebdc98",
   "outputs": [],
   "execution_count": null
  },
  {
   "cell_type": "code",
   "source": [
    "# 이미지 좌우 반전\n",
    "\n",
    "\n",
    "\n",
    "\n",
    "\n"
   ],
   "metadata": {
    "collapsed": false
   },
   "id": "2ea11474e38755a1",
   "outputs": [],
   "execution_count": null
  },
  {
   "cell_type": "code",
   "source": [
    "# Cropping\n",
    "\n",
    "\n",
    "\n",
    "\n",
    "\n"
   ],
   "metadata": {
    "collapsed": false
   },
   "id": "e99854e2da3c8826",
   "outputs": [],
   "execution_count": null
  },
  {
   "cell_type": "markdown",
   "source": [
    "### 고급 그래프\n",
    "#### 상자 그림 (Box Plot)\n",
    "- 박스 플롯의 특징\n",
    "    - 중앙값, 1사분위수, 3사분위수 등의 통계적 요약 정보를 그래픽으로 표현\n",
    "    - 데이터의 분포, 중심 경향, 이상치 등을 한 눈에 파악\n",
    "    - IQR(Interquartile Range, 사분범위)를 이용하여데이터의 변동성과 이상치를 시각적으로 표현\n",
    "- 장점\n",
    "    - 데이터의 전반적인 분포와 중앙값, 이상치 등을 쉽게 파악 가능\n",
    "    - 여러 그룹의 데이터 분포를 한번에 비교하기 좋음\n",
    "    - 데이터의 대략적인 대칭성, 편향도 등을 확인할 수 있음\n",
    "    - 이상치의 존재를 명확히 확인 가능\n",
    "- 단점\n",
    "    - 데이터의 실제 값을 정확히 나타내지 않음\n",
    "    - 데이터의 분포 모양(예: 다봉분포)을 구체적으로 파악하기 어려움\n",
    "    - 큰 데이터셋에서의 미세한 차이를 구분하기 어려울 수 있음\n",
    "    - 모든 유형의 데이터셋에 적합하지 않을 수 있음 (예: 데이터 포인트가 너무 적은 경우)\n",
    "#### 상자 그림의 주요 구성 요소\n",
    "- 상자\n",
    "    - 상자의 아래쪽과 위쪽은 1사분위수(Q1)와 3사분위수(Q3)를 나타냄\n",
    "    - 상자의 길이는 IQR(Interquartile Range, 사분범위)라고 하며 데이터의 중간 50%를 나타냄\n",
    "- 중앙선\n",
    "    - 상자 내부의 선은 중앙값(median 또는 2사분위수)을 나타냄\n",
    "- 수염(Whiskers)\n",
    "    - 데이터의 분포 범위를 나타내는 선\n",
    "    - 아래 수염: Q1 - 1.5 * IQR\n",
    "    - 위 수염: Q3 + 1.5 * IQR\n",
    "- 이상치(Outlier)\n",
    "    - 수염 밖의 점으로 일반적인 분포 범위에서 크게 벗어난 값"
   ],
   "metadata": {
    "collapsed": false
   },
   "id": "298b5e89aedcb48a"
  },
  {
   "cell_type": "code",
   "source": [
    "import matplotlib.pyplot as plt\n",
    "import numpy as np\n",
    "# 데이터 예시\n",
    "data = np.array([1, 2, 3, 4, 5, 6, 7, 8, 9, 10, 11, 12, 13, 14, 15, 16, 30])\n",
    "\n",
    "# 박스플롯 생성\n",
    "\n",
    "\n",
    "\n",
    "\n",
    "\n"
   ],
   "metadata": {
    "collapsed": false
   },
   "id": "5b58fb1ebd10e914",
   "outputs": [],
   "execution_count": null
  },
  {
   "cell_type": "code",
   "source": [
    "# 사분위수 계산\n",
    "\n",
    "\n",
    "\n",
    "\n",
    "\n",
    "\n",
    "# 아랫수염\n",
    "\n",
    "\n",
    "# 윗수염\n",
    "\n",
    "\n",
    "\n",
    "# 이상치\n",
    "\n",
    "\n",
    "\n",
    "\n"
   ],
   "metadata": {
    "collapsed": false
   },
   "id": "89f98601415362b8",
   "outputs": [],
   "execution_count": null
  },
  {
   "cell_type": "markdown",
   "source": [
    "#### 바이올린 그래프 (Violin Plot)\n",
    "- 특징\n",
    "    - KDE(Kernel Density Estimation)의 원리를 기반으로 데이터의 밀도를 시각화\n",
    "    - 박스 플롯과 유사한 정보를 포함하지만, 데이터의 분포 밀도를 좀 더 상세히 표현\n",
    "    - 데이터의 분포가 대칭이 아닐 때에도 그 분포의 형태를 잘 보여줌\n",
    "- 장점\n",
    "    - 데이터의 분포와 밀도를 한 눈에 파악할 수 있음\n",
    "    - 여러 그룹 간의 데이터 분포 비교에 유용\n",
    "    - 박스 플롯보다 데이터의 분포 형태에 대한 정보를 더 자세히 제공\n",
    "- 단점\n",
    "    - 처음 보는 사람들에게는 해석이 복잡하거나 이해하기 어려울 수 있음\n",
    "    - 데이터의 실제 수치를 정확하게 나타내지 않음\n",
    "    - 너무 많은 카테고리나 그룹이 있을 경우 시각적으로 복잡하게 보일 수 있음"
   ],
   "metadata": {
    "collapsed": false
   },
   "id": "cd79e9872511c549"
  },
  {
   "cell_type": "code",
   "source": [
    "import seaborn as sns\n",
    "import matplotlib.pyplot as plt\n",
    "\n",
    "tips = sns.load_dataset('tips')\n",
    "\n",
    "\n",
    "\n"
   ],
   "metadata": {
    "collapsed": false
   },
   "id": "767c218e4f7c307f",
   "outputs": [],
   "execution_count": null
  },
  {
   "cell_type": "code",
   "source": [
    "# 바이올린 플롯 그리기\n",
    "\n",
    "\n",
    "\n",
    "\n",
    "\n"
   ],
   "metadata": {
    "collapsed": false
   },
   "id": "6deb369136f2931f",
   "outputs": [],
   "execution_count": null
  },
  {
   "cell_type": "code",
   "source": "# 성별 및 흡연 여부에 따른 전체 계산 금액의 분포\n",
   "metadata": {
    "collapsed": false
   },
   "id": "8858379115bb0eed",
   "outputs": [],
   "execution_count": null
  },
  {
   "cell_type": "markdown",
   "source": [
    "#### 히트맵 (Heatmap)\n",
    "- 히트맵의 특징\n",
    "    - 데이터의 값을 색상으로 나타내는 시각화 방법\n",
    "    - 행과 열로 구성된 2차원 테이블 형태의 데이터에 주로 사용\n",
    "    - 값의 상대적인 크기를 비교하거나 패턴을 파악하는 데 사용\n",
    "- 장점\n",
    "    - 데이터의 분포와 상관관계를 시각적으로 파악하기 용이\n",
    "    - 복잡한 데이터 구조에서 패턴이나 군집을 쉽게 식별할 수 있음\n",
    "    - 여러 변수 간의 관계를 동시에 분석할 수 있는 다중 변수 시각화에 적합\n",
    "- 단점\n",
    "    - 색상 선택이 중요하며, 부적절한 색상 사용은 오해를 초래할 수 있음\n",
    "    - 데이터 값의 정확한 수치를 파악하기 어려울 수 있음\n",
    "    - 고밀도 데이터의 경우 작은 셀 내의 정보 표현이 어려울 수 있음\n",
    "    - 너무 많은 변수를 함께 표현할 경우 가독성이 저하될 수 있음"
   ],
   "metadata": {
    "collapsed": false
   },
   "id": "668e7301d64460fb"
  },
  {
   "cell_type": "code",
   "source": [
    "#\n",
    "import seaborn as sns\n",
    "import matplotlib.pyplot as plt\n",
    "\n",
    "# 한글 폰트 세팅\n",
    "plt.rcParams['font.family'] = 'Malgun Gothic'\n",
    "# Seaborn의 샘플 데이터셋 불러오기\n",
    "\n",
    "\n",
    "\n",
    "# 피벗 테이블 생성\n",
    "\n",
    "\n",
    "\n",
    "\n",
    "# Seaborn을 사용하여 히트맵 그리기\n",
    "\n",
    "\n",
    "\n",
    "\n"
   ],
   "metadata": {
    "collapsed": false
   },
   "id": "b4a87d47330c3502",
   "outputs": [],
   "execution_count": null
  }
 ],
 "metadata": {
  "kernelspec": {
   "display_name": "Python 3",
   "language": "python",
   "name": "python3"
  },
  "language_info": {
   "codemirror_mode": {
    "name": "ipython",
    "version": 2
   },
   "file_extension": ".py",
   "mimetype": "text/x-python",
   "name": "python",
   "nbconvert_exporter": "python",
   "pygments_lexer": "ipython2",
   "version": "2.7.6"
  }
 },
 "nbformat": 4,
 "nbformat_minor": 5
}
