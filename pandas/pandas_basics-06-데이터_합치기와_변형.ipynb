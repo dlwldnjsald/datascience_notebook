{
 "cells": [
  {
   "cell_type": "markdown",
   "source": [
    "# Pandas\n",
    "-----\n",
    "## 06. 데이터 합치기와 변형\n",
    "### 데이터프레임 합치기 (Dataframe Merging)\n",
    "- Concatenation (연결) : concat\n",
    "- Merge (병합) : merge\n",
    "- Join (조인) : join\n",
    "\n",
    "### concat"
   ],
   "metadata": {
    "collapsed": false
   },
   "id": "f331c322e0067eef"
  },
  {
   "cell_type": "code",
   "source": [
    "# 제공된 코드\n",
    "from IPython.display import display\n",
    "import pandas as pd\n",
    "\n",
    "data1 = {'ID': [1, 2, 3, 4],\n",
    "         'Name': ['Alice', 'Bob', 'Charlie', 'David'],\n",
    "         'Age': [25, 30, 22, 28]}\n",
    "df1 = pd.DataFrame(data1)\n",
    "\n",
    "data2 = {'ID': [3, 4, 5, 6],\n",
    "         'Salary': [50000, 60000, 70000, 80000]}\n",
    "df2 = pd.DataFrame(data2)\n",
    "\n",
    "display(\"df1\", df1)\n",
    "display(\"df2\", df2)\n",
    "# /제공된 코드\n",
    "\n",
    "\n",
    "\n"
   ],
   "metadata": {
    "collapsed": false
   },
   "id": "626ff221cb7db18a",
   "outputs": [],
   "execution_count": null
  },
  {
   "cell_type": "markdown",
   "source": [
    "### merge\n",
    "- 두 데이터프레임 사이에 공통된 컬럼이나 인덱스를 기준으로 데이터를 합치는 작업을 수행\n",
    "    - on 매개변수로 기준 컬럼 지정\n",
    "- SQL의 Join과 비슷한 개념"
   ],
   "metadata": {
    "collapsed": false
   },
   "id": "bfb45b3f88a52e5b"
  },
  {
   "cell_type": "code",
   "source": [
    "\n",
    "\n",
    "\n",
    "\n"
   ],
   "metadata": {
    "collapsed": false
   },
   "id": "fd0bf9955c7bd428",
   "outputs": [],
   "execution_count": null
  },
  {
   "cell_type": "markdown",
   "source": [
    "### join\n",
    "- 인덱스를 기준으로 두 개의 데이터프레임을 조인\n",
    "- how:\n",
    "    - left, right, inner, outer 조인 등 다양한 방법을 지원\n",
    "    - 기본 방식은 left"
   ],
   "metadata": {
    "collapsed": false
   },
   "id": "680bbeb62ccbc59d"
  },
  {
   "cell_type": "code",
   "source": [
    "\n",
    "\n",
    "\n",
    "\n"
   ],
   "metadata": {
    "collapsed": false
   },
   "id": "b0c4480afa39c6ff",
   "outputs": [],
   "execution_count": null
  },
  {
   "cell_type": "code",
   "source": [
    "\n",
    "\n",
    "\n",
    "\n",
    "\n"
   ],
   "metadata": {
    "collapsed": false
   },
   "id": "ab07941affe9d2e5",
   "outputs": [],
   "execution_count": null
  },
  {
   "cell_type": "code",
   "source": [
    "\n",
    "\n",
    "\n",
    "\n"
   ],
   "metadata": {
    "collapsed": false
   },
   "id": "95f8c6e6fba4153d",
   "outputs": [],
   "execution_count": null
  },
  {
   "cell_type": "code",
   "source": [
    "\n",
    "\n",
    "\n",
    "\n",
    "\n"
   ],
   "metadata": {
    "collapsed": false
   },
   "id": "d78422b5fd4bb129",
   "outputs": [],
   "execution_count": null
  },
  {
   "cell_type": "markdown",
   "source": [
    "### 데이터 변형 및 조작\n",
    "- 피벗 테이블\n",
    "- Melt\n",
    "- Stack과 Unstack\n",
    "\n",
    "### Melt\n",
    "- 넓은 형식의 데이터프레임을 긴 형식으로 변형하는 방법\n",
    "- melt 함수의 구조\n",
    "    - frame: 변형하고자 하는 데이터프레임\n",
    "    - id_vars: 그대로 유지할 열의 이름(식별자 변수)을 지정\n",
    "    - value_vars: 변형할 열의 이름을 지정\n",
    "    - var_name: value_vars가 이동하는 열의 이름을 지정\n",
    "    - value_name: value_vars가 이동하는 값의 열 이름을 지정    "
   ],
   "metadata": {
    "collapsed": false
   },
   "id": "863959058e336ad6"
  },
  {
   "cell_type": "code",
   "source": [
    "# 제공된 코드\n",
    "from IPython.display import display\n",
    "import pandas as pd\n",
    "\n",
    "data = {'ID': [1, 2, 3],\n",
    "        'Name': ['Alice', 'Bob', 'Charlie'],\n",
    "        'Eng': [85, 90, 87],\n",
    "        'Math': [90, 85, 78],\n",
    "        'Science': [88, 92, 80]}\n",
    "df = pd.DataFrame(data)\n",
    "display(df)\n",
    "# /제공된 코드\n",
    "\n",
    "\n",
    "\n",
    "\n",
    "\n"
   ],
   "metadata": {
    "collapsed": false
   },
   "id": "10064ec4dcc56119",
   "outputs": [],
   "execution_count": null
  },
  {
   "cell_type": "markdown",
   "source": [
    "#### Stack과 Unstack\n",
    "- 판다스에서 다중 인덱스를 가지는 데이터프레임을 재구성하는데 사용하는 메서드들\n",
    "- 데이터프레임의 인덱스와 컬럼을 재배치하여 다른 형태로 변환할 수 있다\n",
    "\n",
    "##### Stack\n",
    "- 데이터프레임의 컬럼들을 인덱스 레벨로 이동시기는 기능 수행\n",
    "    - 열 데이터를 행 데이터로 변환하는 작업\n",
    "    - 기본적으로 가장 안쪽(가장 낮은 레벨)의 컬럼들을 인덱스 레벨로 이동\n"
   ],
   "metadata": {
    "collapsed": false
   },
   "id": "e881062d9505282c"
  },
  {
   "cell_type": "code",
   "source": [
    "from IPython.display import display\n",
    "\n",
    "\n",
    "\n",
    "\n",
    "\n",
    "\n",
    "\n"
   ],
   "metadata": {
    "collapsed": false
   },
   "id": "c7dde8749421bd03",
   "outputs": [],
   "execution_count": null
  },
  {
   "cell_type": "markdown",
   "source": [
    "##### unstack\n",
    "- unstack : stack의 반대 작업 수행\n",
    "    - 다중 인덱스를 가진 데이터프레임에서 특정 레벨의 인덱스를 컬럼으로 이동\n",
    "    - 기본적으로 가장 낮은 레벨의 인덱스를 컬럼으로 이동"
   ],
   "metadata": {
    "collapsed": false
   },
   "id": "ebe8e00be601e528"
  },
  {
   "cell_type": "code",
   "source": [
    "\n",
    "\n",
    "\n",
    "\n"
   ],
   "metadata": {
    "collapsed": false
   },
   "id": "de612372566c4925",
   "outputs": [],
   "execution_count": null
  }
 ],
 "metadata": {
  "kernelspec": {
   "display_name": "Python 3",
   "language": "python",
   "name": "python3"
  },
  "language_info": {
   "codemirror_mode": {
    "name": "ipython",
    "version": 2
   },
   "file_extension": ".py",
   "mimetype": "text/x-python",
   "name": "python",
   "nbconvert_exporter": "python",
   "pygments_lexer": "ipython2",
   "version": "2.7.6"
  }
 },
 "nbformat": 4,
 "nbformat_minor": 5
}
