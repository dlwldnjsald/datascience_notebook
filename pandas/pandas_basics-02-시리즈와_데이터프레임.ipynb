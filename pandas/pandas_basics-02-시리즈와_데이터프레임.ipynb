{
 "cells": [
  {
   "cell_type": "markdown",
   "source": [
    "# Pandas\n",
    "-----\n",
    "## 02. 판다스의 데이터 구조\n",
    "### 시리즈\n",
    "- 시리즈란\n",
    "    - 1차원: \n",
    "        - 1차원 데이터를 저장하는 자료 구조\n",
    "    - 레이블링: \n",
    "        - 각 데이터 요소에 인덱스(레이블)를 부여하여 접근\n",
    "    - 데이터 유형: \n",
    "        - 다양한 데이터 유형을 지원\n",
    "        - 숫자, 문자열, 불리언, 날짜 등 다양한 데이터를 포함\n",
    "    - 크기 불변성: \n",
    "        - 크기를 변경할 수 없음\n",
    "        - 크기를 변경해야 한다면 새로운 Series 객체를 생성해야 합니다.\n",
    "    - 벡터화 연산: \n",
    "        - 벡터화 연산을 지원, 데이터 처리 속도를 향상\n",
    "    - 누락 데이터 처리: \n",
    "        - 누락된 데이터를 쉽게 처리\n",
    "\n",
    "#### 시리즈 만들기"
   ],
   "metadata": {
    "collapsed": false
   },
   "id": "7fdb1d429968dfb8"
  },
  {
   "cell_type": "code",
   "source": [
    "import pandas as pd\n",
    "from IPython.display import display\n",
    "\n",
    "s = pd.Series(['홍길동', 28, '남', '서울'])\n",
    "print(s)\n",
    "\n",
    "# 인덱스 확인하기\n",
    "\n",
    "\n",
    "# 인덱스를 이용한 값에 접근\n",
    "\n",
    "\n",
    "# 인덱스의 변경\n",
    "\n",
    "\n",
    "# 변경된 인덱스로 값에 접근할 수 있음\n",
    "\n",
    "\n",
    "# 시리즈 생성시 인덱스를 동시 부여\n",
    "\n"
   ],
   "metadata": {
    "collapsed": false
   },
   "id": "ea8aa1d53f641e6",
   "outputs": [],
   "execution_count": null
  },
  {
   "cell_type": "markdown",
   "source": [
    "#### 기초 통계 메서드\n",
    "- 시리즈를 구성하고 있는 데이터가 수치형이라면 다양한 기초 통계 메서드를 이용할 수 있음\n",
    "    - describe() : 각 컬럼에 대한 요약 통계\n",
    "    - min(), max() : 최소값, 최대값\n",
    "    - mean(), median() : 평균값, 중앙값\n",
    "    - isin() : 특정 값이 있는지 여부를 불리언 값으로 리턴\n",
    "    - count() : NaN을 제외한 갯수를 리턴\n",
    "    - drop_duplicates() : 중복된 값을 제외한 시리즈를 리턴"
   ],
   "metadata": {
    "collapsed": false
   },
   "id": "813c16e79da05cc7"
  },
  {
   "cell_type": "code",
   "source": [
    "import pandas as pd\n",
    "\n",
    "kor = [80, 75, 90, 100, 65] # 데이터 리스트 생성\n",
    "kor_s = pd.Series(kor) # 시리즈 생성\n",
    "\n",
    "# 통계 요약 출력\n",
    "\n",
    "\n",
    "\n",
    "# 최소값, 최대값\n",
    "\n",
    "\n",
    "\n"
   ],
   "metadata": {
    "collapsed": false
   },
   "id": "f00c8795e15715ac",
   "outputs": [],
   "execution_count": null
  },
  {
   "cell_type": "code",
   "source": [
    "import pandas as pd\n",
    "from numpy import nan   # 결측치\n",
    "\n",
    "kor_s = pd.Series([80, 75, 90, nan, 100, 65])\n",
    "print(kor_s)\n",
    "\n",
    "# 시리즈는 numpy 배열 기반으로 만들어져서 대부분 통계 메서드를 사용할 수 있음\n",
    "# 단, 통계 관련 메서드는 NaN을 제외하고 연산을 수행\n",
    "\n",
    "\n",
    "\n",
    "# 결측치가 있는지 여부를 불리언 값으로 리턴\n",
    "\n",
    "\n",
    "\n"
   ],
   "metadata": {
    "collapsed": false
   },
   "id": "1d99581cfee4291f",
   "outputs": [],
   "execution_count": null
  },
  {
   "cell_type": "markdown",
   "source": [
    "### 데이터프레임\n",
    "- 데이터프레임이란\n",
    "    - 2차원 테이블: \n",
    "        - 행과 열로 이루어진 2차원 테이블로 구성\n",
    "        - 데이터를 표 형태로 쉽게 이해하고 조작할 수 있음\n",
    "    - 레이블링: \n",
    "        - 각 행과 열에 레이블(인덱스와 컬럼 이름)을 지정하여 데이터에 접근하고 조작\n",
    "    - 다양한 데이터 유형: \n",
    "        - 하나의 데이터프레임 안에 여러 가지 데이터 유형(정수, 실수, 문자열, 날짜 등)을 동시에 저장 가능\n",
    "    - 크기 가변성: \n",
    "        - 행과 열의 크기를 변경 가능 \n",
    "        - 새로운 데이터를 추가하거나 삭제하여 데이터프레임을 업데이트할 수 있음\n",
    "    - 데이터 조작: \n",
    "        - 데이터를 필터링, 정렬, 그룹화, 합치기 등 다양한 방법으로 조작할 수 있음\n",
    "\n",
    "#### 데이터프레임 만들기"
   ],
   "metadata": {
    "collapsed": false
   },
   "id": "7be60027cd362eaf"
  },
  {
   "cell_type": "code",
   "source": [
    "import pandas as pd\n",
    "\n",
    "# 데이터 프레임 클래스에 딕셔너리를 전달\n",
    "\n",
    "\n",
    "\n"
   ],
   "metadata": {
    "collapsed": false
   },
   "id": "ef63e6ef4d52688c",
   "outputs": [],
   "execution_count": null
  },
  {
   "cell_type": "markdown",
   "source": [
    "#### 데이터프레임의 열(Column)과 행(Row)\n",
    "- 열(Column)\n",
    "    - 데이터프레임의 열은 시리즈로 구성\n",
    "    - 통계 용어로 변수라고 부름\n",
    "    - 열은 딕셔너리의 키처럼 브래킷([]), 점(.)을 이용하여 접근"
   ],
   "metadata": {
    "collapsed": false
   },
   "id": "c0d43a0b41978dd2"
  },
  {
   "cell_type": "code",
   "source": [
    "# 브래킷([])을 이용하여 접근\n",
    "# 객체 속성처럼 접근\n",
    "\n",
    "# 데이터프레임의 컬럼은 Series로 구성되어 있음\n"
   ],
   "metadata": {
    "collapsed": false
   },
   "id": "6a97d4d88c715017",
   "outputs": [],
   "execution_count": null
  },
  {
   "cell_type": "markdown",
   "source": [
    "- 변수의 파생\n",
    "    - 데이터프레임에 새로운 열을 추가하거나 기존 열을 조합하여 새로운 열을 만들 수 있음"
   ],
   "metadata": {
    "collapsed": false
   },
   "id": "d651cbd5eda1c283"
  },
  {
   "cell_type": "code",
   "source": [
    "# KOR, ENG, MATH 열의 값을 합산하여 TOTAL 열을 추가\n",
    "\n",
    "\n",
    "\n",
    "# TOTAL 열의 값을 3으로 나누어 AVG 열을 추가\n",
    "\n",
    "\n",
    "\n"
   ],
   "metadata": {
    "collapsed": false
   },
   "id": "4eb8b1b2cd1c02da",
   "outputs": [],
   "execution_count": null
  },
  {
   "cell_type": "markdown",
   "source": [
    "- 행(Row)\n",
    "    - 관측치, 레코드 등으로 불림\n",
    "    1. 인덱스를 이용한 접근 방법\n",
    "        - loc: 인덱스를 이용하여 행에 접근\n",
    "    2. 위치를 이용한 방법\n",
    "        - iloc: 위치를 이용하여 행에 접근"
   ],
   "metadata": {
    "collapsed": false
   },
   "id": "b77fb817ddef5a35"
  },
  {
   "cell_type": "code",
   "source": [
    "print(scores_df)\n",
    "\n",
    "# 인덱스를 이용한 접근\n",
    "# 위치를 이용한 접근\n",
    "\n",
    "# 여러 개의 행에 접근\n",
    "\n",
    "\n",
    "# 1~3번째 행에 접근\n",
    "\n",
    "\n"
   ],
   "metadata": {
    "collapsed": false
   },
   "id": "1a9d33454c94db3e",
   "outputs": [],
   "execution_count": null
  },
  {
   "cell_type": "markdown",
   "source": [
    "#### 불린 인덱싱\n",
    "- 원하는 레코드를 추출할 때, 보통은 추출할 레코드의 인덱스(혹은 위치)를 정확히 모르는 경우가 많음\n",
    "- 인덱스에 불린값을 부여하여 True인 레코드만 추출이 가능하다"
   ],
   "metadata": {
    "collapsed": false
   },
   "id": "25528b4776df79b2"
  },
  {
   "cell_type": "code",
   "source": [
    "\n",
    "\n",
    "\n",
    "# 불린 인덱싱을 이용하여 특정 조건을 만족하는 레코드만 추출\n",
    "\n",
    "\n",
    "\n"
   ],
   "metadata": {
    "collapsed": false
   },
   "id": "e25ee83bfaf5b451",
   "outputs": [],
   "execution_count": null
  }
 ],
 "metadata": {
  "kernelspec": {
   "display_name": "Python 3",
   "language": "python",
   "name": "python3"
  },
  "language_info": {
   "codemirror_mode": {
    "name": "ipython",
    "version": 2
   },
   "file_extension": ".py",
   "mimetype": "text/x-python",
   "name": "python",
   "nbconvert_exporter": "python",
   "pygments_lexer": "ipython2",
   "version": "2.7.6"
  }
 },
 "nbformat": 4,
 "nbformat_minor": 5
}
