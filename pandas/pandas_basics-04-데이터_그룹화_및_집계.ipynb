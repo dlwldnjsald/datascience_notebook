{
 "cells": [
  {
   "cell_type": "markdown",
   "source": [
    "# Pandas\n",
    "-----\n",
    "## 04. 데이터 그룹화 및 집계\n",
    "### EDA (Exploratory Data Analysis)\n",
    "   - 데이터를 이해하기 위한 탐색적 분석\n",
    "   - 데이터의 특징과 내재하는 구조적 관계를 알아내는 과정\n",
    "   - CDA (Confirmatory Data Analysis)와 대비되는 방법론\n",
    "### 데이터그룹화\n",
    "   - 데이터를 특정 기준에 따라 논리적으로 나누는 작업\n",
    "   - 특정 열의 값이 동일한 행들을 하나의 그룹으로 묶음\n",
    "   - groupby() 메서드를 사용하여 그룹화 수행\n",
    "   - 그룹화 후 각 그룹에 대해 집계 함수를 적용하여 요약 통계 정보 계산 가능\n",
    "   - 멀티 인덱스를 사용하여 여러 기준에 따라 복수 개의 열을 기준으로 그룹화 가능\n",
    "   - 그룹화를 통해 원하는 데이터를 필터링하거나 변환할 수 있음"
   ],
   "metadata": {
    "collapsed": false
   },
   "id": "779a5c34bd8d2df3"
  },
  {
   "cell_type": "code",
   "source": [
    "import pandas as pd\n",
    "\n",
    "# gapminder.tsv 파일을 읽어서 데이터프레임으로 변환\n",
    "\n",
    "\n",
    "\n",
    "\n",
    "# 불러온 데이터프레임의 앞쪽 데이터를 확인\n",
    "\n",
    "\n",
    "\n",
    "# 불러온 데이터프레임의 뒤쪽 데이터를 확인\n",
    "\n",
    "\n",
    "\n",
    "# 데이터프레임의 형태 확인\n",
    "\n",
    "\n",
    "\n",
    "# 데이터프레임에 포함된 컬럼 이름 확인\n",
    "\n",
    "\n",
    "\n",
    "# 각 컬럼의 자료형 확인\n",
    "\n",
    "\n",
    "\n",
    "# 데이터프레임의 전반적 정보 확인\n",
    "\n",
    "\n",
    "\n",
    "# 데이터프레임의 기술 통계 정보 확인\n",
    "\n",
    "\n",
    "\n"
   ],
   "metadata": {
    "collapsed": false
   },
   "id": "95307299fc6a3f08",
   "outputs": [],
   "execution_count": null
  },
  {
   "cell_type": "code",
   "source": [
    "# year 열을 기준으로 데이터 그룹화, 연도별 groupby 객체 생성\n",
    "\n",
    "\n",
    "\n",
    "# 그룹화한 데이터프레임의 기술 통계 정보 확인\n",
    "\n",
    "\n",
    "\n",
    "# 그룹화한 데이터프레임에서 lifeExp 열만 추출하여 평균값 계산\n",
    "\n",
    "\n",
    "\n",
    "# year로 그룹화한 데이터프레임에서 lifeExp만 추출하여 평균값 계산\n",
    "\n",
    "\n",
    "\n"
   ],
   "metadata": {
    "collapsed": false
   },
   "id": "c09254c6454b52be",
   "outputs": [],
   "execution_count": null
  },
  {
   "cell_type": "markdown",
   "source": [
    "### 데이터프레임의 시각화\n",
    "   - 데이터의 시각화는 데이터를 이해하는 데 매우 중요한 단계\n",
    "   - 데이터프레임의 plot() 메서드를 사용하여 그래프 생성 가능\n",
    "      - 다양한 종류의 그래프를 지원\n",
    "        - 선 그래프, 막대 그래프, 히스토그램, 산점도 등\n",
    "      - 내부적으로 Matplotlib를 사용하여 데이터를 그래프로 그려줌\n",
    "\n",
    "#### plot 메서드의 주요 매개변수\n",
    "- 기본 설정 및 데이터 지정\n",
    "    - kind : 그래프 유형 지정 (예: 'line', 'bar', 'scatter' 등)\n",
    "    - x : x축에 사용할 데이터 열 이름 또는 값\n",
    "    - y : y축에 사용할 데이터 열 이름 또는 값\n",
    "- 그래프 레이블 관련\n",
    "    - title : 그래프 제목을 설정\n",
    "    - xlabel : x축의 레이블을 설정\n",
    "    - ylabel : y축의 레이블을 설정\n",
    "    - xlim : x 축의 범위를 지정 (예: [xmin, xmax])\n",
    "    - ylim : y 축의 범위를 지정 (예: [ymin, ymax])\n",
    "    - grid : 축의 그리드를 표시할 지 여부를 지정 (기본값: False)\n",
    "    - legend : 범례를 그릴 지 여부를 지정 (기본값: False)\n",
    "    - color : 그래프의 색상을 지정 (기본값: 라인 플롯: None, 막대 그래프: 'b')\n",
    "    - style : 라인 플롯 스타일을 지정 (예: 'o-', '--', 's-', 'k:')\n",
    "    - subplots : 각 열을 개별 서브플롯으로 그릴지 여부를 지정합니다."
   ],
   "metadata": {
    "collapsed": false
   },
   "id": "a55c4fcb1b7e1dbd"
  },
  {
   "cell_type": "code",
   "source": [
    "\n",
    "\n",
    "\n",
    "\n"
   ],
   "metadata": {
    "collapsed": false
   },
   "id": "cc07cd5d4d4d4fda",
   "outputs": [],
   "execution_count": null
  },
  {
   "cell_type": "markdown",
   "source": [
    "#### [연습]\n",
    "- gapminder 데이터셋을 이용, 연도별, 대륙별 그룹화 수행\n",
    "- 그룹화된 데이터셋에서 gdpPercap 열만 추출하여 gdpPerCap의 평균값을 계산\n",
    "- Plot으로 출력 "
   ],
   "metadata": {
    "collapsed": false
   },
   "id": "765abc74dd80e983"
  },
  {
   "cell_type": "code",
   "source": [
    "\n",
    "\n",
    "\n",
    "\n",
    "\n",
    "\n",
    "\n"
   ],
   "metadata": {
    "collapsed": false
   },
   "id": "7d276e0273a08b58",
   "outputs": [],
   "execution_count": null
  },
  {
   "cell_type": "markdown",
   "source": [
    "### Pivot Table\n",
    "#### 피봇 테이블 개요\n",
    "- 데이터프레임의 데이터를 재구성하여 데이터에 대한 통계를 한눈에 파악할 수 있도록 정리한 표\n",
    "- 데이터 분석과 정보 관리에서 중요한 도구\n",
    "    - 엑셀 등 스프레드시트 프로그램에서 자주 사용\n",
    "    - 대량의 데이터를 빠르게 정리하고 그룹화 할 수 있으며, 사용자의 필요에 따라 데이터를 분석하고 합계, 평균, 최대, 최소값 등을 계산할 수 있음\n",
    "- 데이터를 효과적으로 정리하고 분석하는 데 있어 매우 강력한 도구로, 재무, 판매, 마케팅 등 다양한 분야에서 활용\n",
    "\n",
    "#### 피봇 테이블의 주요 기능\n",
    "1. 정렬과 그룹화: 특정 열 또는 행을 기준으로 데이터를 정렬하거나 그룹화하여 요약할 수 있음\n",
    "2. 집계 함수 사용: SUM, AVERAGE, COUNT 등의 집계 함수를 사용하여 데이터를 요약할 수 있음\n",
    "3. 데이터 필터링: 특정 조건을 적용하여 데이터를 필터링하고 분석할 수 있음\n",
    "4. 드릴 다운 및 드릴 업: 데이터의 다른 레벨로 들어가 세부 정보를 확인하거나 요약된 정보로 돌아갈 수 있음\n",
    "\n",
    "#### 피봇 테이블 작성 과정\n",
    "1. 데이터 선택: 분석하고자 하는 데이터 범위를 선택합니다.\n",
    "2. 피봇 테이블 생성: 대부분의 스프레드시트 프로그램에서는 특별한 메뉴 또는 버튼을 통해 피봇 테이블을 생성할 수 있습니다.\n",
    "3. 행 및 열 선택: 특정 열을 행 또는 열에 배치하여 데이터를 그룹화합니다.\n",
    "4. 값 및 집계 함수 선택: 특정 열의 값을 분석하고, 원하는 집계 함수를 선택합니다.\n",
    "5. 필터 적용 (선택 사항): 원하는 조건에 맞게 데이터를 필터링할 수 있습니다.\n",
    "\n",
    "### 피봇 테이블의 구성 요소\n",
    "- 행 (또는 인덱스): 피봇 테이블의 왼쪽에 위치하며, 행에 있는 데이터를 기준으로 피봇 테이블의 데이터가 그룹화됨\n",
    "- 열: 피봇 테이블의 위쪽에 위치하며, 열에 있는 데이터를 기준으로 피봇 테이블의 데이터가 그룹화됨\n",
    "- 값: 집계 함수를 적용할 데이터\n",
    "- 집계 함수: 데이터를 집계하는 데 사용되는 함수\n",
    "- 필터 (선택사항): 원하는 조건에 맞게 데이터를 필터링할 수 있음"
   ],
   "metadata": {
    "collapsed": false
   },
   "id": "21c96bb5bbf25158"
  },
  {
   "cell_type": "code",
   "source": [
    "\n",
    "\n",
    "\n",
    "\n",
    "\n",
    "\n",
    "\n"
   ],
   "metadata": {
    "collapsed": false
   },
   "id": "46c55ac6460c6f81",
   "outputs": [],
   "execution_count": null
  }
 ],
 "metadata": {
  "kernelspec": {
   "display_name": "Python 3",
   "language": "python",
   "name": "python3"
  },
  "language_info": {
   "codemirror_mode": {
    "name": "ipython",
    "version": 2
   },
   "file_extension": ".py",
   "mimetype": "text/x-python",
   "name": "python",
   "nbconvert_exporter": "python",
   "pygments_lexer": "ipython2",
   "version": "2.7.6"
  }
 },
 "nbformat": 4,
 "nbformat_minor": 5
}
