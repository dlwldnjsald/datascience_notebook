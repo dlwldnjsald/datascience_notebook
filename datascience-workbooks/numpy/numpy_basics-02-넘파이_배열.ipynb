{
 "cells": [
  {
   "cell_type": "markdown",
   "id": "6719614c3e4ef161",
   "metadata": {},
   "source": [
    "# Numpy\n",
    "-----\n",
    "## 02. Numpy 배열\n",
    "### 다차원 배열 개념\n",
    "### 배열 생성 방법\n",
    "- 리스트, 튜플을 활용한 배열 생성"
   ]
  },
  {
   "cell_type": "code",
   "execution_count": 1,
   "id": "30e4b68667aa90e7",
   "metadata": {
    "ExecuteTime": {
     "end_time": "2024-01-29T07:39:12.024633400Z",
     "start_time": "2024-01-29T07:39:11.806679300Z"
    }
   },
   "outputs": [
    {
     "name": "stdout",
     "output_type": "stream",
     "text": [
      "[1, 2, 3, 4, 5] <class 'list'>\n",
      "(1, 2, 3, 4, 5) <class 'tuple'>\n",
      "[1 2 3 4 5] <class 'numpy.ndarray'>\n",
      "[1 2 3 4 5] <class 'numpy.ndarray'>\n"
     ]
    }
   ],
   "source": [
    "import numpy as np\n",
    "\n",
    "# 파이썬 기본 리스트\n",
    "lst1 = [1, 2, 3, 4, 5]   \n",
    "print(lst1, type(lst1))\n",
    "# 파이썬 튜플\n",
    "tpl = 1, 2, 3, 4, 5    \n",
    "print(tpl, type(tpl))\n",
    "\n",
    "# 리스트를 이용한 넘파이 배열 생성\n",
    "arr1 = np.array([1, 2, 3, 4, 5])    \n",
    "print(arr1, type(arr1))\n",
    "# 튜플을 이용한 넘파이 배열 생성\n",
    "arr2 = np.array((1, 2, 3, 4, 5))    \n",
    "print(arr2, type(arr2))"
   ]
  },
  {
   "cell_type": "markdown",
   "id": "2da8454aaff64bf0",
   "metadata": {},
   "source": [
    "- 범위 배열 생성"
   ]
  },
  {
   "cell_type": "code",
   "execution_count": 2,
   "id": "33fd523dfad930ac",
   "metadata": {
    "ExecuteTime": {
     "end_time": "2024-01-29T07:39:12.068078Z",
     "start_time": "2024-01-29T07:39:12.008856400Z"
    }
   },
   "outputs": [
    {
     "name": "stdout",
     "output_type": "stream",
     "text": [
      "range(0, 10)\n",
      "[0 1 2 3 4 5 6 7 8 9]\n",
      "range(2, 10)\n",
      "[2 3 4 5 6 7 8 9]\n",
      "range(0, 10, 2)\n",
      "[0 2 4 6 8]\n"
     ]
    }
   ],
   "source": [
    "import numpy as np\n",
    "\n",
    "# 0부터 10 이전까지\n",
    "lst = range(10) \n",
    "print(lst)\n",
    "arr = np.arange(10)\n",
    "print(arr)\n",
    "\n",
    "# 2부터 10 이전까지\n",
    "lst2 = range(2, 10) \n",
    "print(lst2)\n",
    "arr2 = np.arange(2, 10)\n",
    "print(arr2)\n",
    "\n",
    "# 0부터 10 이전까지 2간격으로\n",
    "lst3 = range(0, 10, 2)  \n",
    "print(lst3)\n",
    "arr3 = np.arange(0, 10, 2)\n",
    "print(arr3)"
   ]
  },
  {
   "cell_type": "markdown",
   "id": "85a5dcd3aef1d9c4",
   "metadata": {},
   "source": [
    "- 배열 함수를 이용한 배열의 생성"
   ]
  },
  {
   "cell_type": "code",
   "execution_count": 3,
   "id": "b0f8ddf20704eb1e",
   "metadata": {
    "ExecuteTime": {
     "end_time": "2024-01-29T07:39:12.073092900Z",
     "start_time": "2024-01-29T07:39:12.024633400Z"
    }
   },
   "outputs": [
    {
     "name": "stdout",
     "output_type": "stream",
     "text": [
      "[0. 0. 0.]\n",
      "[[0. 0. 0.]\n",
      " [0. 0. 0.]\n",
      " [0. 0. 0.]]\n",
      "[1. 1. 1.]\n",
      "[[1. 1. 1.]\n",
      " [1. 1. 1.]\n",
      " [1. 1. 1.]]\n"
     ]
    }
   ],
   "source": [
    "import numpy as np\n",
    "\n",
    "# 영행렬\n",
    "zeros3 = np.zeros(3) # 3개짜리 1차원 배열 (0으로 채워진)\n",
    "print(zeros3)\n",
    "zeros3x3 = np.zeros((3, 3)) # 3*3 1차원 배열 (\") \n",
    "print(zeros3x3)\n",
    "\n",
    "# 모든 원소가 1인 행렬\n",
    "ones3 = np.ones(3) # 3개짜리 1차원 배열 (1로 채워진)\n",
    "print(ones3)\n",
    "ones3x3 = np.ones((3, 3)) # (\")\n",
    "print(ones3x3)"
   ]
  },
  {
   "cell_type": "markdown",
   "id": "42c29ebdb6aa60b1",
   "metadata": {},
   "source": [
    "- 단위행렬 만들기\n",
    "    - 단위행렬 : 주대각선 상의 원소가 모두 1이고, 나머지 원소는 모두 0인 정사각형 행렬"
   ]
  },
  {
   "cell_type": "code",
   "execution_count": null,
   "id": "edf8e4954fcde405",
   "metadata": {
    "ExecuteTime": {
     "end_time": "2024-01-29T07:39:12.126432Z",
     "start_time": "2024-01-29T07:39:12.047630800Z"
    }
   },
   "outputs": [],
   "source": [
    "import numpy as np\n",
    "\n",
    "# 단위항렬 : eye\n",
    "eye = np.eye(3) #   3x3의 행렬에서 주대각선상의 원소가 모두 1인 행렬\n",
    "print(\"3x3 단위행렬:\", eye)\n",
    "\n",
    "eye2 = np.eye(3, k=-1)  # k: 주 대각선을 위, 아래로 얼마나 이동시킬 것인지 결정\n",
    "print(eye2)\n"
   ]
  },
  {
   "cell_type": "markdown",
   "id": "637d61fbd613d9b3",
   "metadata": {},
   "source": [
    "- 난수를 이용한 배열 생성\n",
    "    - 균일분포 난수 배열 생성 : rand()\n",
    "    - 정규분포 난수 배열 생성 : randn()\n",
    "    - 정수형 난수 생성 : randint()"
   ]
  },
  {
   "cell_type": "code",
   "execution_count": null,
   "id": "ab1bb14bac87f59c",
   "metadata": {
    "ExecuteTime": {
     "end_time": "2024-01-29T07:39:12.127941300Z",
     "start_time": "2024-01-29T07:39:12.059776300Z"
    }
   },
   "outputs": [],
   "source": [
    "import numpy as np\n",
    "\n",
    "# 균일분포 난수 배열\n",
    "uni_rand = np.random.rand(4, 3)\n",
    "print(uni_rand)\n",
    "# 정규분포 난수 배열\n",
    "norm_rand = np.random.randn(4, 3)\n",
    "print(uni_rand)\n",
    "# 정수 난수 배열\n",
    "int_rand = np.random.randint(1, 10, size=(4, 3))\n",
    "print(int_rand)"
   ]
  },
  {
   "cell_type": "markdown",
   "id": "549a03552d050b5b",
   "metadata": {},
   "source": [
    "- 확률 분포를 이용한 난수 배열 생성\n",
    "    - 균등분포 난수 : uniform()\n",
    "    - 정규분포 난수 : normal()\n",
    "    - 지수분포 난수 : exponential()"
   ]
  },
  {
   "cell_type": "code",
   "execution_count": null,
   "id": "ecaf19b54de7188c",
   "metadata": {
    "ExecuteTime": {
     "end_time": "2024-01-29T07:39:12.265338500Z",
     "start_time": "2024-01-29T07:39:12.071093700Z"
    }
   },
   "outputs": [],
   "source": [
    "import numpy as np\n",
    "\n",
    "# 균등분포 난수\n",
    "uni_rand = np.random.uniform(1, 6, size=(4, 3))\n",
    "print(uni_rand)\n",
    "# 정규분포 난수\n",
    "norm_rand = np.random.normal(loc=0.0, scale=1.0, size=(4, 3))\n",
    "print(norm_rand)\n",
    "# 지수분포 난수\n",
    "exp_rand = np.random.exponential(scale=1., size=(4,3))\n",
    "print(exp_rand)"
   ]
  },
  {
   "cell_type": "markdown",
   "id": "59d195e31ffea8ba",
   "metadata": {},
   "source": [
    "- 난수 행렬 만들 때 시드의 지정\n",
    "    - seed()"
   ]
  },
  {
   "cell_type": "code",
   "execution_count": null,
   "id": "cd51539e9d585ad4",
   "metadata": {
    "ExecuteTime": {
     "end_time": "2024-01-29T07:39:12.266336400Z",
     "start_time": "2024-01-29T07:39:12.083718Z"
    }
   },
   "outputs": [],
   "source": [
    "import numpy as np\n",
    "\n",
    "# 일반적인 난수의 사용\n",
    "for i in range(10):\n",
    "    print(np.random.randint(1, 7), end=\", \")\n",
    "else:\n",
    "    print()\n",
    "    \n",
    "# seed 설정을 이용한 재현성의 확보\n",
    "for i in range(10):\n",
    "    np.random.seed(42)\n",
    "    print(np.random.randint(1, 7), end=\", \")"
   ]
  },
  {
   "cell_type": "markdown",
   "id": "d5beb2eacc673fde",
   "metadata": {},
   "source": [
    "### 배열의 속성과 모양"
   ]
  },
  {
   "cell_type": "code",
   "execution_count": null,
   "id": "bf5dade68220031c",
   "metadata": {
    "ExecuteTime": {
     "end_time": "2024-01-29T07:39:12.267321Z",
     "start_time": "2024-01-29T07:39:12.091267200Z"
    }
   },
   "outputs": [],
   "source": [
    "import numpy as np\n",
    "\n",
    "# 파이썬의 기본 리스트\n",
    "# lst = [42, 3.14, True, \"python\", [1, 2, 3, 4, 5]]\n",
    "lst = [42, 3.14, True, \"python\"]\n",
    "print([type(o) for o in lst])\n",
    "\n",
    "# 넘파이 배열\n",
    "arr = np.array(lst)\n",
    "print(arr)"
   ]
  },
  {
   "cell_type": "markdown",
   "id": "fc639c3e31ec44b5",
   "metadata": {},
   "source": [
    "- 배열의 속성\n",
    "    - shape : 배열의 형상 (행의 개수, 열의 개수)\n",
    "    - ndim : 배열의 차원. 배열의 축(axis)의 개수\n",
    "    - size : 배열의 전체 원소 개수\n",
    "    - dtype : 배열의 데이터 타입\n",
    "        - https://numpy.org/doc/stable/reference/arrays.dtypes.html"
   ]
  },
  {
   "cell_type": "code",
   "execution_count": null,
   "id": "4de2c9b128e3f962",
   "metadata": {
    "ExecuteTime": {
     "end_time": "2024-01-29T07:39:12.267321Z",
     "start_time": "2024-01-29T07:39:12.095880200Z"
    }
   },
   "outputs": [],
   "source": [
    "import numpy as np\n",
    "\n",
    "# 0 ~ 9 사이의 난수를 가진 4행 3열 배열 생성\n",
    "arr = np.random.randint(0, 10, size=(4, 3))\n",
    "# 배열의 속성을 알아봅시다\n",
    "print(\"형상:\", np.shape(arr), arr.shape)\n",
    "print(\"차원:\", np.ndim(arr), arr.ndim)\n",
    "print(\"원소 개수:\", np.size(arr), arr.size)\n",
    "print(\"데이터 타입:\", arr.dtype)"
   ]
  },
  {
   "cell_type": "markdown",
   "id": "6571a4bd78fd0b2c",
   "metadata": {},
   "source": [
    "### 배열의 인덱싱과 슬라이싱\n",
    "- 파이썬 순차자료형의 인덱싱과 슬라이싱 규칙이 그대로 적용"
   ]
  },
  {
   "cell_type": "code",
   "execution_count": null,
   "id": "558acfe4f15cb4ed",
   "metadata": {
    "ExecuteTime": {
     "end_time": "2024-01-29T07:39:12.296841500Z",
     "start_time": "2024-01-29T07:39:12.126432Z"
    }
   },
   "outputs": [],
   "source": [
    "import numpy as np\n",
    "\n",
    "arr = np.array([\n",
    "    [0, 1, 2, 3, 4],\n",
    "    [10, 11, 12, 13, 14],\n",
    "    [20, 21, 22, 23, 24],\n",
    "    [30, 31, 32, 33, 34],\n",
    "    [40, 41, 42, 43, 44],\n",
    "])\n",
    "print(arr)\n",
    "\n",
    "# 이 배열에 대해 정보를 캐내 보자\n",
    "print(\"형태:\", arr.shape)\n",
    "print(\"차원:\", arr.ndim)\n",
    "print(\"크기:\", arr.size)\n",
    "print(\"데이터 타입:\", arr.dtype)"
   ]
  },
  {
   "cell_type": "code",
   "execution_count": null,
   "id": "42f23d8fce098425",
   "metadata": {
    "ExecuteTime": {
     "end_time": "2024-01-29T07:39:12.297845100Z",
     "start_time": "2024-01-29T07:39:12.147032600Z"
    }
   },
   "outputs": [],
   "source": [
    "# 3행 2열의 데이터는 무엇인가?\n",
    "print(arr[3, 2])\n",
    "print()\n",
    "# 2행 전체의 데이터를 추출해 보자\n",
    "print(arr[2])\n",
    "print()\n",
    "# 2열 전체의 데이터를 추출해 보자\n",
    "print(arr[:, 2])\n",
    "print()\n",
    "# 1행 1열 ~ 3행 3열의 데이터를 추출해 보자\n",
    "print(arr[1:4, 1:4])"
   ]
  },
  {
   "cell_type": "markdown",
   "id": "2225a7a198bd908a",
   "metadata": {},
   "source": [
    "### 브로드캐스팅\n",
    "- 다른 형상(Shape)을 가지 배열들 간에 산술연산을 수행할 때, 자동으로 형상을 맞춰주는 기능\n",
    "\n",
    "- 브로드캐스팅의 규칙\n",
    "    - 두 배열의 뒷 차원(오른쪽에서 왼쪽으로)부터 비교, 차원의 크기가 같거나 둘 중의 하나의 차원이 1인 경우 브로드캐스팅이 가능\n",
    "    - 브로드캐스팅은 해당 차원의 크기를 1인 차원과 동일한 크기로 간주하여 진행\n",
    "        \n",
    "- 브로드캐스팅은 배열의 형상을 맞추는 작업을 자동으로 수행하기 때문에 코드를 간결하게 작성할 수 있고, 많은 경우에 유용하게 활용\n",
    "    - 그러나 항상 배열의 형상 변화에 주의해야 하고, 브로드캐스팅 규칙을 잘 이해하고 사용하는 것이 중요"
   ]
  },
  {
   "cell_type": "code",
   "execution_count": null,
   "id": "d9c694e6df662589",
   "metadata": {
    "ExecuteTime": {
     "end_time": "2024-01-29T07:39:13.103844300Z",
     "start_time": "2024-01-29T07:39:12.152488300Z"
    }
   },
   "outputs": [],
   "source": [
    "import numpy as np\n",
    "\n",
    "# 1차원 배열과 0차원 데이터의 연산\n",
    "arr1 = np.array([1, 2, 3])\n",
    "arr2 = 2\n",
    "\n",
    "result = arr1 + arr2    # should be [3, 4, 5]\n",
    "print(result)\n",
    "\n",
    "# 다차원 배열간의 브로드캐스팅\n",
    "arr3 = np.array([\n",
    "    [1, 2, 3],\n",
    "    [4, 5, 6]\n",
    "])\n",
    "arr4 = np.array([7, 8, 9])\n",
    "\n",
    "result = arr3 + arr4\n",
    "print(result)\n",
    "\n",
    "arr5 = np.array([7, 8, 9, 10])  # Error\n",
    "result = arr3 + arr5\n",
    "print(result)"
   ]
  },
  {
   "cell_type": "code",
   "execution_count": null,
   "id": "fd3d8cd6ffcde99f",
   "metadata": {
    "ExecuteTime": {
     "end_time": "2024-01-29T07:39:13.132849900Z",
     "start_time": "2024-01-29T07:39:13.108843Z"
    }
   },
   "outputs": [],
   "source": []
  }
 ],
 "metadata": {
  "kernelspec": {
   "display_name": "Python 3 (ipykernel)",
   "language": "python",
   "name": "python3"
  },
  "language_info": {
   "codemirror_mode": {
    "name": "ipython",
    "version": 3
   },
   "file_extension": ".py",
   "mimetype": "text/x-python",
   "name": "python",
   "nbconvert_exporter": "python",
   "pygments_lexer": "ipython3",
   "version": "3.10.9"
  }
 },
 "nbformat": 4,
 "nbformat_minor": 5
}
