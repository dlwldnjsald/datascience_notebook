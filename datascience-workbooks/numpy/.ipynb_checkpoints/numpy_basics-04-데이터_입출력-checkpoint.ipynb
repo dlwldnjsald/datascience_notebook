{
 "cells": [
  {
   "cell_type": "markdown",
   "id": "3737d78451c37260",
   "metadata": {},
   "source": [
    "# Numpy\n",
    "-----\n",
    "## 03. 배열 연산과 함수\n",
    "### 텍스트 파일 다루기\n",
    "- savetxt : 배열을 텍스트 파일로 저장\n",
    "- loadtxt : 텍스트 파일을 배열로 불러오기"
   ]
  },
  {
   "cell_type": "code",
   "execution_count": 3,
   "id": "9176b8ca3b49b362",
   "metadata": {
    "ExecuteTime": {
     "end_time": "2024-01-29T07:40:50.954990300Z",
     "start_time": "2024-01-29T07:40:50.735705Z"
    }
   },
   "outputs": [
    {
     "name": "stdout",
     "output_type": "stream",
     "text": [
      "[[0.03922615 0.59769755 0.7883066 ]\n",
      " [0.48730894 0.96049838 0.32846025]\n",
      " [0.26937818 0.47490379 0.82941204]\n",
      " [0.34104359 0.53666178 0.62626781]\n",
      " [0.99317438 0.21773849 0.19229423]]\n",
      "\n",
      "[[0.03922615 0.59769755 0.7883066 ]\n",
      " [0.48730894 0.96049838 0.32846025]\n",
      " [0.26937818 0.47490379 0.82941204]\n",
      " [0.34104359 0.53666178 0.62626781]\n",
      " [0.99317438 0.21773849 0.19229423]]\n"
     ]
    }
   ],
   "source": [
    "import numpy as np\n",
    "\n",
    "data = np.random.rand(5, 3)\n",
    "print(data)\n",
    "\n",
    "# 텍스트 파일로 저장 \n",
    "# np.savetxt('data.txt', data)    # 공백으로 구분\n",
    "np.savetxt('data.txt', data, delimiter=\",\")    # ,로 구분(CSV)\n",
    "print()\n",
    "\n",
    "# 텍스트 파일을 배열로 불러오기\n",
    "# load_data = np.loadtxt('data.txt')\n",
    "load_data = np.loadtxt('data.txt', delimiter=\",\")\n",
    "print(load_data)"
   ]
  },
  {
   "cell_type": "markdown",
   "id": "767ada7921f26a66",
   "metadata": {},
   "source": [
    "### 바이너리 파일 다루기\n",
    "- save : 배열을 바이너리 파일로 저장\n",
    "    - 넘파이 배열의 확장자는 .npy\n",
    "- load : 바이너리 파일을 배열로 불러오기\n",
    "\n",
    "※ 바이너리 형식으로 데이터를 저장하고 불러오면 데이터 손실 없이 빠르게 처리할 수 있으므로, 크기가 크고 복잡한 데이터를 다룰 때 특히 유용"
   ]
  },
  {
   "cell_type": "code",
   "execution_count": 10,
   "id": "db423dbf183e6683",
   "metadata": {
    "ExecuteTime": {
     "end_time": "2024-01-29T07:44:29.412192Z",
     "start_time": "2024-01-29T07:44:29.378937500Z"
    }
   },
   "outputs": [
    {
     "name": "stdout",
     "output_type": "stream",
     "text": [
      "data :\n",
      " [[0.96397632 0.63687527 0.19997648]\n",
      " [0.81980621 0.39809152 0.63662442]\n",
      " [0.61088245 0.66614051 0.76595309]\n",
      " [0.79516977 0.54196489 0.82831798]\n",
      " [0.2529078  0.38833898 0.74331746]]\n",
      "\n",
      "load_data :\n",
      " [[0.96397632 0.63687527 0.19997648]\n",
      " [0.81980621 0.39809152 0.63662442]\n",
      " [0.61088245 0.66614051 0.76595309]\n",
      " [0.79516977 0.54196489 0.82831798]\n",
      " [0.2529078  0.38833898 0.74331746]]\n"
     ]
    }
   ],
   "source": [
    "import numpy as np\n",
    "import os\n",
    "\n",
    "# 가상의 데이터 생성\n",
    "data = np.random.rand(5, 3)\n",
    "print(\"data :\\n\", data)\n",
    "\n",
    "# 데이터를 바이너리 형식으로 저장\n",
    "if not os.path.exists('./generated'):\n",
    "    os.makedirs('./generated')\n",
    "np.save('./generated/data', data)\n",
    "print()\n",
    "\n",
    "# 바이너리 파일을 배열로 불러오기\n",
    "load_data = np.load('./generated/data.npy')\n",
    "print(\"load_data :\\n\", load_data)"
   ]
  },
  {
   "cell_type": "code",
   "execution_count": null,
   "id": "57c8a0364dafe44b",
   "metadata": {
    "ExecuteTime": {
     "end_time": "2024-01-29T07:40:51.017544900Z",
     "start_time": "2024-01-29T07:40:50.976937Z"
    }
   },
   "outputs": [],
   "source": []
  }
 ],
 "metadata": {
  "kernelspec": {
   "display_name": "Python 3 (ipykernel)",
   "language": "python",
   "name": "python3"
  },
  "language_info": {
   "codemirror_mode": {
    "name": "ipython",
    "version": 3
   },
   "file_extension": ".py",
   "mimetype": "text/x-python",
   "name": "python",
   "nbconvert_exporter": "python",
   "pygments_lexer": "ipython3",
   "version": "3.10.9"
  }
 },
 "nbformat": 4,
 "nbformat_minor": 5
}
